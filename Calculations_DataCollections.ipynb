{
 "cells": [
  {
   "cell_type": "markdown",
   "id": "78e0faa2-2c50-48d3-a66b-2ca19067de34",
   "metadata": {},
   "source": [
    "# Class Notes"
   ]
  },
  {
   "cell_type": "code",
   "execution_count": null,
   "id": "a313d87e",
   "metadata": {},
   "outputs": [],
   "source": [
    "a = \"antidisestablishmentarianism\"\n",
    "dir(a) \n",
    "\n",
    "#dir shows functions & methods available for the specified variable\n",
    "# dir is a function b/c it can be run on any data type\n",
    "# method is restricted by data type; associated with objects & their classes"
   ]
  },
  {
   "cell_type": "code",
   "execution_count": null,
   "id": "f2e7af15",
   "metadata": {},
   "outputs": [],
   "source": [
    "z = \"Potatoes are life\"\n",
    "# how can I transform this string? how can I determine what methods are available to transform this string?\n",
    "dir(z)\n",
    "# which of these methods can I ignore? -the double underscore methods\n",
    "# methods have different syntax than functions"
   ]
  },
  {
   "cell_type": "markdown",
   "id": "3ccac65b-66af-40b9-98a8-c8ad40401a4a",
   "metadata": {},
   "source": [
    "## In-Class Practice"
   ]
  },
  {
   "cell_type": "markdown",
   "id": "e7748b67",
   "metadata": {},
   "source": [
    "### To do:\n",
    "1. Use the `dir()` function to create a list of methods for a string variable\n",
    "2. Use three random methods with proper method calling syntax\n",
    "3. Present your findings to the class"
   ]
  },
  {
   "cell_type": "code",
   "execution_count": null,
   "id": "3bf531c6",
   "metadata": {},
   "outputs": [],
   "source": [
    "q = \"Peach jam on buttered toast\"\n",
    "print(q)"
   ]
  },
  {
   "cell_type": "code",
   "execution_count": null,
   "id": "e1db7be1",
   "metadata": {},
   "outputs": [],
   "source": [
    "# method: replace\n",
    "# first attempt: print(q.replace()) -this does not work b/c it needs 2 arguments\n",
    "\n",
    "print(q.replace(\"Peach\", \"Yuzu\")) # \"old string\", \"new string\""
   ]
  },
  {
   "cell_type": "code",
   "execution_count": null,
   "id": "dcb9e7df",
   "metadata": {},
   "outputs": [],
   "source": [
    "# method: removeprefix\n",
    "print(q.removeprefix(\"Peach jam on \"))"
   ]
  },
  {
   "cell_type": "code",
   "execution_count": null,
   "id": "4c66a652",
   "metadata": {},
   "outputs": [],
   "source": [
    "# method: join\n",
    "print(q.partition(\"on\"))\n",
    "print(q.partition(\"jam\"))\n",
    "print(q.partition(\"buttered\"))"
   ]
  },
  {
   "cell_type": "code",
   "execution_count": null,
   "id": "c146176c",
   "metadata": {},
   "outputs": [],
   "source": [
    "# functions process from inside out\n",
    "# methods process from left to right"
   ]
  },
  {
   "cell_type": "markdown",
   "id": "88ffe956-127c-4fbb-ae2b-8bca2eb3a5d2",
   "metadata": {},
   "source": [
    "# Notes Revision"
   ]
  },
  {
   "cell_type": "markdown",
   "id": "b945e9ad-2834-4ba2-8d02-444f42a54e9d",
   "metadata": {},
   "source": [
    "[Full list of built in Python functions](https://docs.python.org/3/library/functions.html)"
   ]
  },
  {
   "cell_type": "markdown",
   "id": "1f4c29c4-80dd-4792-b4f0-163d3d815a23",
   "metadata": {},
   "source": [
    "### Functions & Methods\n",
    "The syntax for functions are: `FUNCTION_NAME(INPUT)`.\n",
    "The syntax for methods are: `INPUT.METHOD_NAME()`.\n",
    "\n",
    "The function `dir()` returns all the attributes & methods that can be used on the input.\n",
    "\n",
    "The function `%who` returns all the variables that are assigned a value."
   ]
  },
  {
   "cell_type": "code",
   "execution_count": null,
   "id": "f2816727-bb51-48c9-90e2-5e648ecd3ea7",
   "metadata": {},
   "outputs": [],
   "source": [
    "q = \"star\"\n",
    "r = 700\n",
    "s = [\"red\", \"snail\", \"shells\"]"
   ]
  },
  {
   "cell_type": "code",
   "execution_count": null,
   "id": "88e4c878-abda-4029-bb0a-4dba379f2398",
   "metadata": {},
   "outputs": [],
   "source": [
    "# returns all attributes & methods used for variable(str)\n",
    "dir(q)"
   ]
  },
  {
   "cell_type": "code",
   "execution_count": null,
   "id": "9548034d-e244-4eca-88bc-7a2c318112ab",
   "metadata": {},
   "outputs": [],
   "source": [
    "# returns all attributes & methods used for variable(float)\n",
    "dir(r)"
   ]
  },
  {
   "cell_type": "code",
   "execution_count": null,
   "id": "86e576e3-c138-4ae7-8d18-cab4580277aa",
   "metadata": {},
   "outputs": [],
   "source": [
    "# returns all attributes & methods used for variable(list)\n",
    "dir(s)"
   ]
  },
  {
   "cell_type": "code",
   "execution_count": null,
   "id": "2c2ed6cb-cfc1-48a8-8da2-4a8979d9aca5",
   "metadata": {},
   "outputs": [],
   "source": [
    "print(q)\n",
    "\n",
    "# capitalizes the first character of variable(str)\n",
    "print(q.capitalize())\n",
    "\n",
    "# boolean: is the variable(str) upper?\n",
    "print(q.isupper())\n",
    "\n",
    "# capitlizes all the characters in variable(str)\n",
    "print(q.upper())"
   ]
  },
  {
   "cell_type": "markdown",
   "id": "c17a5d48-4ee1-4f35-929f-e1214f553549",
   "metadata": {},
   "source": [
    "## Data Types"
   ]
  },
  {
   "cell_type": "code",
   "execution_count": null,
   "id": "fa2064a2-0e88-4b5d-9749-aebda6f48232",
   "metadata": {},
   "outputs": [],
   "source": [
    "m = 1998\n",
    "n = 4.44\n",
    "o = \"poppy\"\n",
    "p = [\"fire\",\"air\",\"water\",\"earth\"]\n",
    "\n",
    "print(m, \"is the data type:\", type(m))\n",
    "print(n, \"is the data type:\", type(n))\n",
    "print(o, \"is the data type:\", type(o))\n",
    "print(p, \"is the data type:\", type(p))"
   ]
  },
  {
   "cell_type": "markdown",
   "id": "b143fb80-f85c-421c-b927-ec6496a8a41b",
   "metadata": {},
   "source": [
    "### Numeric Data Types: Integer"
   ]
  },
  {
   "cell_type": "code",
   "execution_count": null,
   "id": "e0b2e2ec-995a-45b5-955d-a75934900197",
   "metadata": {},
   "outputs": [],
   "source": [
    "print(type(0))\n",
    "print(type(000))\n",
    "# print(type(001639)\n",
    "print(type(359953))\n",
    "print(type(-133783378008))\n",
    "print(type(9+1))\n",
    "print(type(1963-30))"
   ]
  },
  {
   "cell_type": "code",
   "execution_count": null,
   "id": "cb9dd928-2bb2-4bd2-b9c5-4990edc99854",
   "metadata": {},
   "outputs": [],
   "source": [
    "# numbers expressed with commas\n",
    "r = 106,000\n",
    "t = 106_000\n",
    "\n",
    "print(r, \"is an example of \", type(r))\n",
    "print(t, \"is an example of \", type(t))"
   ]
  },
  {
   "cell_type": "code",
   "execution_count": null,
   "id": "b2794254-0b01-45f2-8e62-5d70c17ae815",
   "metadata": {},
   "outputs": [],
   "source": [
    "# int vs float\n",
    "j = 5\n",
    "k = 5.0\n",
    "\n",
    "print(j, \"is an example of \", type(j))\n",
    "print(k, \"is an example of \", type(k))"
   ]
  },
  {
   "cell_type": "code",
   "execution_count": null,
   "id": "9c249a1e-b5db-4da5-8540-3522f47a4e78",
   "metadata": {},
   "outputs": [],
   "source": [
    "# rounding integers\n",
    "s = int(round(2.3))\n",
    "a = int(round(3.4))\n",
    "g = int(round(4.5))\n",
    "e = int(round(5.6))\n",
    "\n",
    "print(s,a,g,e)"
   ]
  },
  {
   "cell_type": "markdown",
   "id": "d6fb1cca-61c7-44a4-a256-e63da1e95fde",
   "metadata": {},
   "source": [
    "[Floating Point Arithmetic: Issues and Limitations:](https://docs.python.org/3/tutorial/floatingpoint.html#tut-fp-issues)"
   ]
  },
  {
   "cell_type": "markdown",
   "id": "9b6c8be8-b1bc-42e1-89ae-b8eee7274cff",
   "metadata": {},
   "source": [
    "### Numeric Data Types: Float\n",
    "To be continued..."
   ]
  }
 ],
 "metadata": {
  "kernelspec": {
   "display_name": "Python 3 (ipykernel)",
   "language": "python",
   "name": "python3"
  },
  "language_info": {
   "codemirror_mode": {
    "name": "ipython",
    "version": 3
   },
   "file_extension": ".py",
   "mimetype": "text/x-python",
   "name": "python",
   "nbconvert_exporter": "python",
   "pygments_lexer": "ipython3",
   "version": "3.10.9"
  }
 },
 "nbformat": 4,
 "nbformat_minor": 5
}
