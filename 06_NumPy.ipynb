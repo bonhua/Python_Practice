{
 "cells": [
  {
   "cell_type": "markdown",
   "id": "4b6b956e-1944-42f8-8e82-de295bb191e5",
   "metadata": {},
   "source": [
    "# <center> 06 NumPy (Numerical Python)"
   ]
  },
  {
   "cell_type": "code",
   "execution_count": 3,
   "id": "0d2d1f77-71a4-4f47-b17d-37192719ccae",
   "metadata": {},
   "outputs": [],
   "source": [
    "import numpy as np"
   ]
  },
  {
   "cell_type": "code",
   "execution_count": 16,
   "id": "9709eaa4-a54a-4841-a419-3451ebb2f0b6",
   "metadata": {},
   "outputs": [
    {
     "name": "stdout",
     "output_type": "stream",
     "text": [
      "[ 5  6  7  8  9 10 11]\n",
      "int32\n",
      "(7,)\n",
      "6\n",
      "14\n",
      "11\n",
      "The original array: [50  6  7  8  9 10 11]\n",
      "The copy: [ 5  6  7  8  9 10 11]\n",
      "None\n",
      "[50  6  7  8  9 10 11]\n",
      "start at index 1, end at index 5: [6 7 8 9]\n",
      "start at index 3, end at array length: [ 8  9 10 11]\n",
      "start at array length, end at index 3: [50  6  7]\n",
      "start at 4 from end, end at 1 from end: [ 8  9 10]\n"
     ]
    }
   ],
   "source": [
    "arr = np.array([5,6,7,8,9, 10, 11])\n",
    "\n",
    "print(arr)\n",
    "print(arr.dtype)\n",
    "print(arr.shape)\n",
    "\n",
    "print(arr[1])\n",
    "print(arr[0] + arr[4])\n",
    "print(arr[-1])\n",
    "\n",
    "arr_copy = arr.copy()\n",
    "arr[0] = 50\n",
    "print(\"The original array:\", arr)\n",
    "print(\"The copy:\", arr_copy)\n",
    "\n",
    "x = arr.copy()\n",
    "y = arr.view()\n",
    "print(x.base)\n",
    "print(y.base)\n",
    "\n",
    "print(\"start at index 1, end at index 5:\", arr[1:5])\n",
    "print(\"start at index 3, end at array length:\",arr[3:])\n",
    "print(\"start at array length, end at index 3:\",arr[:3])\n",
    "print(\"start at 4 from end, end at 1 from end:\",arr[-4:-1])"
   ]
  },
  {
   "cell_type": "markdown",
   "id": "e2a3cead-090d-4fb5-8cdd-6d0292fb892f",
   "metadata": {},
   "source": [
    "### Data Types\n",
    "* i - integer\n",
    "* b - boolean\n",
    "* u - unsigned integer\n",
    "* f - float\n",
    "* c - complex float\n",
    "* m - timedelta\n",
    "* M - datetime\n",
    "* O - object\n",
    "* S -string\n",
    "* U - unicode string\n",
    "* V - fixed chunk of memory for other type (void)"
   ]
  },
  {
   "cell_type": "code",
   "execution_count": 5,
   "id": "d1120970-33d3-4cdc-8bea-395c9c5d956a",
   "metadata": {},
   "outputs": [],
   "source": [
    "arr = np.array([4,5,6], dtype = 'i')"
   ]
  },
  {
   "cell_type": "markdown",
   "id": "819779ac-75d0-4a3c-b96c-30bcf27a278c",
   "metadata": {},
   "source": [
    "## Class Notes"
   ]
  },
  {
   "cell_type": "code",
   "execution_count": 17,
   "id": "b58ab8ba-a9b8-4f16-b4a5-faa2b55fe03a",
   "metadata": {},
   "outputs": [
    {
     "name": "stdout",
     "output_type": "stream",
     "text": [
      "2\n",
      "2nd element on 1st row: 2\n",
      "1st dimension, 2nd group, 3rd item: 6\n"
     ]
    }
   ],
   "source": [
    "arr_1d = np.array([1,2,3,4])\n",
    "print(arr_1d[1])\n",
    "\n",
    "arr_2d = np.array([[1,2,3,4,5], [6,7,8,9,10]])\n",
    "print(\"2nd element on 1st row:\", arr_2d[0,1])\n",
    "\n",
    "arr_3d = np.array([[[1,2,3], [4,5,6]], [[7,8,9], [10,11,12]]])\n",
    "print(\"1st dimension, 2nd group, 3rd item:\", arr_3d[0,1,2])"
   ]
  },
  {
   "cell_type": "markdown",
   "id": "ee039301-36bf-4cf0-8ac0-129454ad147b",
   "metadata": {},
   "source": [
    "notation: slicing (array) vs indexing (list)\n",
    "start, end, step"
   ]
  },
  {
   "cell_type": "markdown",
   "id": "5a8ccc02-1793-43d4-8591-7969fe9485fb",
   "metadata": {},
   "source": [
    "np.arrange\n",
    "gimme list of numbers from this to that with a common increment"
   ]
  },
  {
   "cell_type": "markdown",
   "id": "b0466796-4310-4e52-a3e9-028c8cfe8806",
   "metadata": {},
   "source": [
    "np.arrange vs np.linspace\n",
    "arrange specifies stepsize, exclusive stop\n",
    "linspace specifies number of values you want, inclusive stop"
   ]
  },
  {
   "cell_type": "markdown",
   "id": "e2bb2580-acb7-47ba-a915-16c656156eaf",
   "metadata": {},
   "source": [
    "## Mini Challenge: Array Creation, Indexing, & Slicing"
   ]
  },
  {
   "cell_type": "code",
   "execution_count": 24,
   "id": "6c7c1ada-5b8b-491d-9fc1-99c7b0ed0663",
   "metadata": {},
   "outputs": [
    {
     "name": "stdout",
     "output_type": "stream",
     "text": [
      "the 4th element on 2nd row: 900 900\n",
      "10\n"
     ]
    }
   ],
   "source": [
    "arr = np.array([[10,20,30,40,50], [600,700,800,900,1000]])\n",
    "#Print the 4th element on 2nd row…\n",
    "print(\"the 4th element on 2nd row:\",arr[1,3],arr[1,-2])\n",
    "\n",
    "arr = np.array([[[1, 2, 3], [4, 5, 6]], [[7, 8, 9], [10, 11, 12]]])\n",
    "#what index would you use to get the value ‘10’\n",
    "print(arr[1,1,0])"
   ]
  },
  {
   "cell_type": "code",
   "execution_count": 39,
   "id": "d7be99a8-07ef-4d76-8a0f-ca083554566b",
   "metadata": {},
   "outputs": [
    {
     "name": "stdout",
     "output_type": "stream",
     "text": [
      "[  0.  10.  20.  30.  40.  50.  60.  70.  80.  90. 100. 110. 120. 130.\n",
      " 140.]\n"
     ]
    }
   ],
   "source": [
    "# create an array of 15 numbers evenly spaced between 0 and 140\n",
    "q = np.linspace(0,140,15)\n",
    "print(q)"
   ]
  },
  {
   "cell_type": "code",
   "execution_count": 37,
   "id": "56beecff-8596-46c0-8081-81e3132e99c3",
   "metadata": {},
   "outputs": [
    {
     "name": "stdout",
     "output_type": "stream",
     "text": [
      "[0.  0.5 1.  1.5 2.  2.5 3.  3.5 4.  4.5 5.  5.5 6.  6.5 7.  7.5 8.  8.5\n",
      " 9.  9.5]\n"
     ]
    }
   ],
   "source": [
    "# create an array numbers evenly spaced between 0 and 10 incremented by 0.5\n",
    "p = np.arange(0,10,0.5)\n",
    "print(p)"
   ]
  },
  {
   "cell_type": "code",
   "execution_count": null,
   "id": "7c458f85-cc65-4d5a-8f6d-d908536b2aaf",
   "metadata": {},
   "outputs": [],
   "source": [
    "random.random requires two parens\n",
    "random.rand requires only one paren"
   ]
  }
 ],
 "metadata": {
  "kernelspec": {
   "display_name": "Python 3 (ipykernel)",
   "language": "python",
   "name": "python3"
  },
  "language_info": {
   "codemirror_mode": {
    "name": "ipython",
    "version": 3
   },
   "file_extension": ".py",
   "mimetype": "text/x-python",
   "name": "python",
   "nbconvert_exporter": "python",
   "pygments_lexer": "ipython3",
   "version": "3.10.9"
  }
 },
 "nbformat": 4,
 "nbformat_minor": 5
}
