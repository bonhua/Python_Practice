{
 "cells": [
  {
   "cell_type": "markdown",
   "id": "34272038-58e6-4946-a167-7c41e6532ab9",
   "metadata": {},
   "source": [
    "# <center> 01 Introduction to Python:\n",
    "### <center> Print, Basic Operators, Markdown, Math"
   ]
  },
  {
   "cell_type": "markdown",
   "id": "5bb9c47e-c594-4917-80aa-85ca64345d2c",
   "metadata": {},
   "source": [
    "## Print Function"
   ]
  },
  {
   "cell_type": "code",
   "execution_count": 1,
   "id": "ddc1b4f6-11b0-4e71-b85e-f74f8e787569",
   "metadata": {},
   "outputs": [
    {
     "name": "stdout",
     "output_type": "stream",
     "text": [
      "Bonjour WORLD!\n"
     ]
    }
   ],
   "source": [
    "# print: displays specified in paren\n",
    "print (\"Bonjour WORLD!\")"
   ]
  },
  {
   "cell_type": "code",
   "execution_count": 2,
   "id": "3892276f-9628-4b0f-a075-7c86bfb8ec3c",
   "metadata": {},
   "outputs": [
    {
     "name": "stdout",
     "output_type": "stream",
     "text": [
      "# print: displays specified in paren\n",
      "print (\"Bonjour WORLD!\")\n",
      "# shows all the code run in the working kernel so far\n",
      "%history\n"
     ]
    }
   ],
   "source": [
    "# shows all the code run in the working kernel so far\n",
    "%history"
   ]
  },
  {
   "cell_type": "markdown",
   "id": "b4734636-89c6-4295-aa51-952087c7a3bc",
   "metadata": {},
   "source": [
    "## Variables: Declaration & Assignment"
   ]
  },
  {
   "cell_type": "code",
   "execution_count": 3,
   "id": "683512ab-c951-44b9-a8c6-75e5b2655dc8",
   "metadata": {},
   "outputs": [
    {
     "name": "stdout",
     "output_type": "stream",
     "text": [
      "star\n"
     ]
    }
   ],
   "source": [
    "# declare variable & assign value\n",
    "q = 'star'\n",
    "print (q)"
   ]
  },
  {
   "cell_type": "code",
   "execution_count": 4,
   "id": "292d68cc-35eb-4e4c-92cc-3c8d67f0848c",
   "metadata": {},
   "outputs": [
    {
     "name": "stdout",
     "output_type": "stream",
     "text": [
      "bonnie & clyde\n",
      "bonnie & clyde\n"
     ]
    }
   ],
   "source": [
    "# other value assignments\n",
    "x = \"bonnie\"\n",
    "y = \"&\"\n",
    "z = \"clyde\"\n",
    "print (x, y, z)\n",
    "\n",
    "m = \"bonnie \"\n",
    "n = \"& clyde\"\n",
    "o = m + n\n",
    "print (o)"
   ]
  },
  {
   "cell_type": "code",
   "execution_count": 5,
   "id": "82f22f1e-7957-40cd-9e51-a059001f5c30",
   "metadata": {},
   "outputs": [
    {
     "name": "stdout",
     "output_type": "stream",
     "text": [
      "this is a string!\n",
      "25\n",
      "203.0\n"
     ]
    }
   ],
   "source": [
    "# variable = string, int, or float\n",
    "var_a = \"this is a string!\"\n",
    "var_b = 25\n",
    "var_c = 203.0\n",
    "\n",
    "print(var_a)\n",
    "print(var_b)\n",
    "print(var_c)"
   ]
  },
  {
   "cell_type": "markdown",
   "id": "4ef801d0-c45c-4cfa-93dc-fabc3c1a1bc2",
   "metadata": {},
   "source": [
    "## Data Types"
   ]
  },
  {
   "cell_type": "code",
   "execution_count": 6,
   "id": "d7c731b5-424b-4379-bd90-7645ff50fad6",
   "metadata": {},
   "outputs": [
    {
     "name": "stdout",
     "output_type": "stream",
     "text": [
      "Raw potatoes is an example of the <class 'str'> data type\n"
     ]
    }
   ],
   "source": [
    "# text type: string\n",
    "x = \"Raw potatoes\"\n",
    "x = str(\"Raw potatoes\")\n",
    "print (x, \"is an example of the\", type (x), \"data type\")"
   ]
  },
  {
   "cell_type": "code",
   "execution_count": 7,
   "id": "ee4fed51-7c2c-4a47-aabd-42b1cdad7788",
   "metadata": {},
   "outputs": [
    {
     "name": "stdout",
     "output_type": "stream",
     "text": [
      "tomorrow tomorrow and yet again tomorrow\n"
     ]
    }
   ],
   "source": [
    "str_1 = \"tomorrow\"\n",
    "print(str_1, str_1, \"and yet again\", str_1)"
   ]
  },
  {
   "cell_type": "code",
   "execution_count": 8,
   "id": "43bba932-81c3-4c93-a082-1a44f1ee67b1",
   "metadata": {},
   "outputs": [
    {
     "name": "stdout",
     "output_type": "stream",
     "text": [
      "My love\n",
      " Is like the grasses\n",
      " Hidden in the deep\n",
      "  mountain:\n",
      " Though its abundance\n",
      "  increases,\n",
      " There is none that knows\n"
     ]
    }
   ],
   "source": [
    "# triple quotes (\"\"\") to break up huge chunks\n",
    "str_2 = \"\"\"My love\n",
    " Is like the grasses\n",
    " Hidden in the deep\n",
    "  mountain:\n",
    " Though its abundance\n",
    "  increases,\n",
    " There is none that knows\"\"\"\n",
    "print(str_2)"
   ]
  },
  {
   "cell_type": "code",
   "execution_count": 9,
   "id": "e0c5ec5b-ba73-4ab3-bfd4-06f2b407fadd",
   "metadata": {},
   "outputs": [
    {
     "name": "stdout",
     "output_type": "stream",
     "text": [
      "99.9 is a numeric float\n",
      "26 is a numeric integer\n",
      "5j is a complex number\n"
     ]
    }
   ],
   "source": [
    "# numeric type: float, int, complex\n",
    "a = float(99.9)\n",
    "b = int(26)\n",
    "c = complex(5j)\n",
    "print (a, \"is a numeric float\")\n",
    "print (b, \"is a numeric integer\")\n",
    "print (c, \"is a complex number\")"
   ]
  },
  {
   "cell_type": "markdown",
   "id": "09d37b0b-d28c-4ede-a4cc-9fc9ee5f100c",
   "metadata": {},
   "source": [
    "## Basic Operations"
   ]
  },
  {
   "cell_type": "code",
   "execution_count": 10,
   "id": "39f4ff5f-668e-4e81-b07b-9ddee9bdd255",
   "metadata": {},
   "outputs": [],
   "source": [
    "# assign variables w/ numbers\n",
    "j = 7\n",
    "o = 5\n",
    "y = 2"
   ]
  },
  {
   "cell_type": "code",
   "execution_count": 11,
   "id": "097848f2-ef25-4ef7-87b3-4b979d449dfc",
   "metadata": {},
   "outputs": [
    {
     "name": "stdout",
     "output_type": "stream",
     "text": [
      "7 + 5 = 12\n"
     ]
    }
   ],
   "source": [
    "# we can add numbers!\n",
    "print(j, \"+\", o, \"=\", j+o)"
   ]
  },
  {
   "cell_type": "code",
   "execution_count": 12,
   "id": "d925ca5c-8b31-4692-95a3-153a279c3731",
   "metadata": {},
   "outputs": [
    {
     "name": "stdout",
     "output_type": "stream",
     "text": [
      "7 - 5 = 2\n"
     ]
    }
   ],
   "source": [
    "# and subtract numbers\n",
    "print(j, \"-\", o, \"=\", j-o)"
   ]
  },
  {
   "cell_type": "code",
   "execution_count": 13,
   "id": "0455fe0e-18f7-4576-a621-594e33aa21ec",
   "metadata": {},
   "outputs": [
    {
     "name": "stdout",
     "output_type": "stream",
     "text": [
      "7 * 5 = 35\n"
     ]
    }
   ],
   "source": [
    "# also multiply\n",
    "print(j, \"*\", o, \"=\", j*o)"
   ]
  },
  {
   "cell_type": "code",
   "execution_count": 14,
   "id": "5c955e9c-009e-4cd5-b272-090d0e2fa031",
   "metadata": {},
   "outputs": [
    {
     "name": "stdout",
     "output_type": "stream",
     "text": [
      "7 / 5 = 1.4\n"
     ]
    }
   ],
   "source": [
    "# there's good ol' division\n",
    "print(j, \"/\", o, \"=\", j/o)"
   ]
  },
  {
   "cell_type": "code",
   "execution_count": 15,
   "id": "10c6010e-7fbb-4aed-9e5b-5e528badd241",
   "metadata": {},
   "outputs": [
    {
     "name": "stdout",
     "output_type": "stream",
     "text": [
      "7 // 5 = 1\n"
     ]
    }
   ],
   "source": [
    "# and FLOOR division! rounds down\n",
    "print(j, \"//\", o, \"=\", j//o)"
   ]
  },
  {
   "cell_type": "code",
   "execution_count": 16,
   "id": "9773c467-7ccc-4b5d-80cc-870ff816175c",
   "metadata": {},
   "outputs": [
    {
     "name": "stdout",
     "output_type": "stream",
     "text": [
      "7 % 5 = 2 means when 7 is divided by 5, the remainder is 2\n"
     ]
    }
   ],
   "source": [
    "# modulus gives the remainder or the leftover from division\n",
    "print(j, \"%\", o, \"=\", j%o, \"means when 7 is divided by 5, the remainder is 2\")"
   ]
  },
  {
   "cell_type": "code",
   "execution_count": 17,
   "id": "6de513cd-0e00-4333-bfc4-ad12f7bede6f",
   "metadata": {},
   "outputs": [
    {
     "name": "stdout",
     "output_type": "stream",
     "text": [
      "5 ** 2 = 25 means when 2 is raised to the 5th power, we get 25\n"
     ]
    }
   ],
   "source": [
    "# exponential power\n",
    "print(o, \"**\", y, \"=\", o**y, \"means when 2 is raised to the 5th power, we get 25\")"
   ]
  },
  {
   "cell_type": "code",
   "execution_count": 18,
   "id": "7f8427f9-97a5-4268-b1f0-72ebf5fd38d8",
   "metadata": {},
   "outputs": [
    {
     "name": "stdout",
     "output_type": "stream",
     "text": [
      "7 * 5 / 2 = 17.5 means 7 is first multipled by 5, then the value is divided by 2\n"
     ]
    }
   ],
   "source": [
    "# the order of operations PEMDAS still applies!\n",
    "print(j, \"*\", o, \"/\", y, \"=\", j*o/y, \"means 7 is first multipled by 5, then the value is divided by 2\")"
   ]
  },
  {
   "cell_type": "markdown",
   "id": "0db0e056-d50e-4eae-8d27-e54b9e39dbb9",
   "metadata": {},
   "source": [
    "## Logic Operators"
   ]
  },
  {
   "cell_type": "code",
   "execution_count": 19,
   "id": "4fc57fa5-003c-48f5-b4b0-f1a8741053ca",
   "metadata": {},
   "outputs": [],
   "source": [
    "a = 30\n",
    "b = 25"
   ]
  },
  {
   "cell_type": "code",
   "execution_count": 20,
   "id": "d24ed328-6e08-4451-b91d-23974863fbab",
   "metadata": {},
   "outputs": [
    {
     "name": "stdout",
     "output_type": "stream",
     "text": [
      "Is 30 greater than 25? True\n"
     ]
    }
   ],
   "source": [
    "print(\"Is 30 greater than 25?\", a>b)"
   ]
  },
  {
   "cell_type": "code",
   "execution_count": 21,
   "id": "bc7dc14c-c884-47f8-9624-b383c61d99bd",
   "metadata": {},
   "outputs": [
    {
     "name": "stdout",
     "output_type": "stream",
     "text": [
      "Is 30 less than 25? False\n"
     ]
    }
   ],
   "source": [
    "print(\"Is 30 less than 25?\",a<b)"
   ]
  },
  {
   "cell_type": "code",
   "execution_count": 22,
   "id": "e55a278c-5f7e-4df9-9398-4e91f2736f73",
   "metadata": {},
   "outputs": [
    {
     "name": "stdout",
     "output_type": "stream",
     "text": [
      "Is 30 equal to 25? False\n"
     ]
    }
   ],
   "source": [
    "print(\"Is 30 equal to 25?\", a==b)"
   ]
  },
  {
   "cell_type": "markdown",
   "id": "3695b2d4-71f9-4dbe-817b-c9ecc9d53cd5",
   "metadata": {},
   "source": [
    "## MATH!"
   ]
  },
  {
   "cell_type": "code",
   "execution_count": 23,
   "id": "caf0775c-873e-49d9-bd6a-fa05febd094a",
   "metadata": {},
   "outputs": [],
   "source": [
    "# importing our first library, math! and giving it alias \"m\"\n",
    "# we can now do cool math stuff\n",
    "import math as m"
   ]
  },
  {
   "cell_type": "code",
   "execution_count": 24,
   "id": "aaae813c-dc97-46df-9986-f55d735de3d9",
   "metadata": {},
   "outputs": [
    {
     "name": "stdout",
     "output_type": "stream",
     "text": [
      "The log of 100 is 2.0\n"
     ]
    }
   ],
   "source": [
    "# logarithmic functions: log base 10\n",
    "print(\"The log of 100 is\", m.log10(100))"
   ]
  },
  {
   "cell_type": "code",
   "execution_count": 25,
   "id": "a80d9d29-0c05-471f-950d-272260ebc277",
   "metadata": {},
   "outputs": [
    {
     "name": "stdout",
     "output_type": "stream",
     "text": [
      "x is 5.55\n",
      "ceiling value of x is 6\n",
      "when x is rounded, we get 6\n",
      "floor value of x is 5\n"
     ]
    }
   ],
   "source": [
    "x = 5.55\n",
    "print(\"x is\", x)\n",
    "print(\"ceiling value of x is\", m.ceil(x)) # round up\n",
    "print(\"when x is rounded, we get\", round(x))\n",
    "print(\"floor value of x is\", m.floor(x)) # round down"
   ]
  },
  {
   "cell_type": "code",
   "execution_count": 26,
   "id": "4cab1739-734b-409a-9882-66a111727199",
   "metadata": {},
   "outputs": [
    {
     "name": "stdout",
     "output_type": "stream",
     "text": [
      "The area of a circle with a radius of 10 is 314.1592653589793\n"
     ]
    }
   ],
   "source": [
    "# we have the power to find the area of a circle\n",
    "r = 10\n",
    "area = m.pi * m.pow(r,2)\n",
    "print(\"The area of a circle with a radius of\", r, \"is\", area)"
   ]
  }
 ],
 "metadata": {
  "kernelspec": {
   "display_name": "Python 3 (ipykernel)",
   "language": "python",
   "name": "python3"
  },
  "language_info": {
   "codemirror_mode": {
    "name": "ipython",
    "version": 3
   },
   "file_extension": ".py",
   "mimetype": "text/x-python",
   "name": "python",
   "nbconvert_exporter": "python",
   "pygments_lexer": "ipython3",
   "version": "3.10.9"
  }
 },
 "nbformat": 4,
 "nbformat_minor": 5
}
