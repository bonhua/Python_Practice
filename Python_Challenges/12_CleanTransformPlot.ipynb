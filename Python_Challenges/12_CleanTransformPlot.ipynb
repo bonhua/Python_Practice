{
 "cells": [
  {
   "cell_type": "markdown",
   "id": "28271df5-75aa-4f9b-bdf4-bba4f23a60d5",
   "metadata": {},
   "source": [
    "# <center> Cleaning & Transforming Data While Plotting"
   ]
  },
  {
   "cell_type": "code",
   "execution_count": null,
   "id": "8d69ca41-91b1-4474-b2ee-fdc52864c7a2",
   "metadata": {},
   "outputs": [],
   "source": [
    "import pandas as pd\n",
    "import numpy as np\n",
    "import matplotlib.pyplot as plt\n",
    "import seaborn as sns"
   ]
  },
  {
   "cell_type": "code",
   "execution_count": null,
   "id": "74f2adc3-5cdf-44bb-8e8c-8d1581ebb834",
   "metadata": {},
   "outputs": [],
   "source": [
    "penguins = sns.load_dataset('penguins')"
   ]
  },
  {
   "cell_type": "markdown",
   "id": "d588948e-9f6f-48e8-a84f-4fd8a9bc450a",
   "metadata": {},
   "source": [
    "**1. Run the describe method on the penguins dataset. Which number is larger: the mean body mass or the median body mass?**"
   ]
  },
  {
   "cell_type": "code",
   "execution_count": null,
   "id": "0159d662-b084-455f-8c38-c3da9b93823a",
   "metadata": {},
   "outputs": [],
   "source": [
    "penguins.describe()"
   ]
  },
  {
   "cell_type": "markdown",
   "id": "ed2588ff-38f8-4f01-a1e6-c032209e1697",
   "metadata": {},
   "source": [
    "The mean body mass (approx. 4202) is greater than the median body mass (4050)."
   ]
  },
  {
   "cell_type": "markdown",
   "id": "4158851d-3797-4d4c-a6f2-12a5b7376b6c",
   "metadata": {},
   "source": [
    "**2. Write code to display only the maximum value of each column.**"
   ]
  },
  {
   "cell_type": "code",
   "execution_count": null,
   "id": "90569be1-9fe2-497a-9132-04d94cefb2f5",
   "metadata": {},
   "outputs": [],
   "source": [
    "penguins.max(numeric_only=True)"
   ]
  },
  {
   "cell_type": "markdown",
   "id": "4be56922-0068-48be-8172-39966b1c4f17",
   "metadata": {},
   "source": [
    "**3. Run value_counts() on the species column. Which species is the most common?**"
   ]
  },
  {
   "cell_type": "code",
   "execution_count": null,
   "id": "7b4a2503-3318-45ac-a688-08fe341aff46",
   "metadata": {},
   "outputs": [],
   "source": [
    "penguins[\"species\"].value_counts()"
   ]
  },
  {
   "cell_type": "markdown",
   "id": "3599da3f-6048-48c3-b091-e4dda17a8903",
   "metadata": {},
   "source": [
    "The most common penguin species is the Adelie."
   ]
  },
  {
   "cell_type": "markdown",
   "id": "7bfbcc2f-44ed-46a4-a723-09f565d6d531",
   "metadata": {},
   "source": [
    "**4. Write code to find the 90th percentile of body mass. Translate the result into a sentence.**"
   ]
  },
  {
   "cell_type": "code",
   "execution_count": null,
   "id": "35bb7a25-a29b-480e-b379-044ef94d3d3f",
   "metadata": {},
   "outputs": [],
   "source": [
    "penguins[\"body_mass_g\"].quantile (q=0.9)"
   ]
  },
  {
   "cell_type": "markdown",
   "id": "17a1c4a9-c463-4cea-b622-5ff56a729564",
   "metadata": {},
   "source": [
    "The 90th percentile of body mass (in g) is at 5400, meaning 90% of the penguins in the dataset fall below 5400 for body mass (in g)."
   ]
  },
  {
   "cell_type": "markdown",
   "id": "9f3a904e-3e0b-4e0f-8234-163cc9152ed8",
   "metadata": {},
   "source": [
    "**5. Write code to group by species and find the median of all quantitative columns for each species. Based on these results, which species has the shortest median bill depth?**"
   ]
  },
  {
   "cell_type": "code",
   "execution_count": null,
   "id": "f42188bf-213e-4adb-a20e-8e084009bc35",
   "metadata": {},
   "outputs": [],
   "source": [
    "penguins.groupby(penguins[\"species\"]).median(numeric_only=True)"
   ]
  },
  {
   "cell_type": "markdown",
   "id": "d0c54cc4-21d8-4d00-9011-f627731596b1",
   "metadata": {},
   "source": [
    "Gentoo is the penguin species with the shortest median bill depth at 15 mm."
   ]
  },
  {
   "cell_type": "markdown",
   "id": "51af449e-4298-469f-9f0a-9c6bd1b0c130",
   "metadata": {},
   "source": [
    "**6. Create a kdeplot for the flipper length variable. Approximately (round to a multiple of 10), what is the most common value for this variable?**"
   ]
  },
  {
   "cell_type": "code",
   "execution_count": null,
   "id": "6e078db4-d416-400b-ae3e-67d37550b4dd",
   "metadata": {},
   "outputs": [],
   "source": [
    "sns.kdeplot(penguins['flipper_length_mm'])"
   ]
  },
  {
   "cell_type": "markdown",
   "id": "85e98695-a11c-4935-9112-5df23d40ed58",
   "metadata": {},
   "source": [
    "The most common value for flipper length (in mm) is approximately 190."
   ]
  }
 ],
 "metadata": {
  "kernelspec": {
   "display_name": "Python 3 (ipykernel)",
   "language": "python",
   "name": "python3"
  },
  "language_info": {
   "codemirror_mode": {
    "name": "ipython",
    "version": 3
   },
   "file_extension": ".py",
   "mimetype": "text/x-python",
   "name": "python",
   "nbconvert_exporter": "python",
   "pygments_lexer": "ipython3",
   "version": "3.10.9"
  }
 },
 "nbformat": 4,
 "nbformat_minor": 5
}
