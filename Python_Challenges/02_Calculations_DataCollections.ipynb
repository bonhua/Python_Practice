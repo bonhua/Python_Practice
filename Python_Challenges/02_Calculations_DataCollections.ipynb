{
 "cells": [
  {
   "cell_type": "markdown",
   "id": "8f963185-5627-4564-82f8-c2a48b00703c",
   "metadata": {
    "tags": []
   },
   "source": [
    "# 02 Calculations & Data Collections"
   ]
  },
  {
   "cell_type": "markdown",
   "id": "586d009a-2849-4a20-a6dd-e820101e07d3",
   "metadata": {},
   "source": [
    "## Basic Calculations"
   ]
  },
  {
   "cell_type": "markdown",
   "id": "f1a70175-4657-4dc0-bbe3-c688847d35cc",
   "metadata": {},
   "source": [
    "Add two integers together. What is the result?"
   ]
  },
  {
   "cell_type": "code",
   "execution_count": 1,
   "id": "762987cc-9fef-453c-8b91-698651f4f797",
   "metadata": {},
   "outputs": [
    {
     "name": "stdout",
     "output_type": "stream",
     "text": [
      "12\n"
     ]
    }
   ],
   "source": [
    "a = 5\n",
    "b = 7\n",
    "print(a + b)"
   ]
  },
  {
   "cell_type": "markdown",
   "id": "f0208f2a-b8b4-47b0-81b6-0ab0e1bcd4af",
   "metadata": {},
   "source": [
    "Subtract two integers. What is the result?"
   ]
  },
  {
   "cell_type": "code",
   "execution_count": 2,
   "id": "0b589256-4bef-4034-b2ec-7d03946443c8",
   "metadata": {},
   "outputs": [
    {
     "name": "stdout",
     "output_type": "stream",
     "text": [
      "400\n"
     ]
    }
   ],
   "source": [
    "c = 444\n",
    "d = 44\n",
    "print(c - d)"
   ]
  },
  {
   "cell_type": "markdown",
   "id": "04fd6b5f-a4da-4b07-ba7e-dd5d93131fde",
   "metadata": {},
   "source": [
    "Divide two values. Have the result be an integer by using floor division. What is the result?"
   ]
  },
  {
   "cell_type": "code",
   "execution_count": 3,
   "id": "6347febc-f7a6-4b98-a2e3-66f0bc6c99e6",
   "metadata": {},
   "outputs": [
    {
     "name": "stdout",
     "output_type": "stream",
     "text": [
      "14\n"
     ]
    }
   ],
   "source": [
    "e = 70\n",
    "f = 5\n",
    "print(e//f)"
   ]
  },
  {
   "cell_type": "markdown",
   "id": "1aabc3fa-7f51-47d7-a266-c82ade5c207c",
   "metadata": {},
   "source": [
    "Create a variable 'x', and have its value be '10+5'. Print 'x'. What is the result?"
   ]
  },
  {
   "cell_type": "code",
   "execution_count": 4,
   "id": "01286f86-0c47-46cb-acb8-e11c01aaf69d",
   "metadata": {},
   "outputs": [
    {
     "name": "stdout",
     "output_type": "stream",
     "text": [
      "15\n"
     ]
    }
   ],
   "source": [
    "x = 10 + 5\n",
    "print(x)"
   ]
  },
  {
   "cell_type": "markdown",
   "id": "70a91596-0cb6-4377-84de-c19d7b1fff61",
   "metadata": {},
   "source": [
    "## Data Collections"
   ]
  },
  {
   "cell_type": "markdown",
   "id": "fc5d4d02-068a-48c5-997e-e62aa93af6b3",
   "metadata": {},
   "source": [
    "Create two strings and combine them using the '+' operator. What is the result?"
   ]
  },
  {
   "cell_type": "code",
   "execution_count": 5,
   "id": "14f69ae5-6744-4d7f-b7d0-c8c8e988bb24",
   "metadata": {},
   "outputs": [
    {
     "name": "stdout",
     "output_type": "stream",
     "text": [
      "Peach jam\n"
     ]
    }
   ],
   "source": [
    "g = \"Peach \"\n",
    "h = \"jam\"\n",
    "print(g + h)"
   ]
  },
  {
   "cell_type": "markdown",
   "id": "40831b79-8cde-4454-9144-9b77504f02d9",
   "metadata": {},
   "source": [
    "Create variable 'y' and have the value be 'program'. Omit letters 'o' and 'g'. Print the result."
   ]
  },
  {
   "cell_type": "code",
   "execution_count": 6,
   "id": "f565aaf6-3940-4466-839a-61b930b985ad",
   "metadata": {},
   "outputs": [
    {
     "name": "stdout",
     "output_type": "stream",
     "text": [
      "prram\n"
     ]
    }
   ],
   "source": [
    "y = 'program'\n",
    "print(y[:2] + y[4:]) # index operator & '+' operator"
   ]
  },
  {
   "cell_type": "markdown",
   "id": "9fd98e80-354a-4119-bf97-eb5737ba2640",
   "metadata": {},
   "source": [
    "Create a list called 'calendar months'.\n",
    " - How long is the list?\n",
    " - Print only 'February', 'March', and 'April'."
   ]
  },
  {
   "cell_type": "code",
   "execution_count": 7,
   "id": "4b1296ff-b666-46e1-bbbd-06056768b09c",
   "metadata": {},
   "outputs": [
    {
     "name": "stdout",
     "output_type": "stream",
     "text": [
      "12\n",
      "['February', 'March', 'April']\n"
     ]
    }
   ],
   "source": [
    "calendar_months = [\"January\", \"February\", \"March\", \"April\", \"May\", \"June\", \"July\", \"August\", \"September\", \"October\", \"November\", \"December\"]\n",
    "\n",
    "length = len(calendar_months)\n",
    "print(length)\n",
    "\n",
    "print(calendar_months[1:4])"
   ]
  },
  {
   "cell_type": "markdown",
   "id": "af13f296-4b69-4026-8301-7c0ad4f2f133",
   "metadata": {},
   "source": [
    "Create a sample list of your choice, using string variables."
   ]
  },
  {
   "cell_type": "code",
   "execution_count": 8,
   "id": "052ff925-0d31-43f8-9d35-f4bbfb2a31cf",
   "metadata": {},
   "outputs": [
    {
     "name": "stdout",
     "output_type": "stream",
     "text": [
      "This is Bon's List: ['star', 'peach', 'lily']\n"
     ]
    }
   ],
   "source": [
    "bon_list = [\"star\", \"peach\", \"lily\"]\n",
    "print(\"This is Bon's List:\", bon_list)"
   ]
  },
  {
   "cell_type": "markdown",
   "id": "aa7b7acb-4db1-4c62-8c71-46c17c785ed2",
   "metadata": {},
   "source": [
    "Create a second sample list of your choice, using string variables."
   ]
  },
  {
   "cell_type": "code",
   "execution_count": 9,
   "id": "5dd499be-e72b-4327-902c-c65c0b67c343",
   "metadata": {},
   "outputs": [
    {
     "name": "stdout",
     "output_type": "stream",
     "text": [
      "And this is Jon's List: ['moon', 'fig', 'lilac']\n"
     ]
    }
   ],
   "source": [
    "jon_list = [\"moon\", \"fig\", \"lilac\"]\n",
    "print(\"And this is Jon's List:\", jon_list)"
   ]
  },
  {
   "cell_type": "markdown",
   "id": "24bbe96f-dc52-4ff5-a58d-ebc5cc814137",
   "metadata": {},
   "source": [
    "Create a third list that concats the two sample lists you created above.\n",
    " - Remove one item from the third list."
   ]
  },
  {
   "cell_type": "code",
   "execution_count": 10,
   "id": "0d45c03e-fcec-465b-bf17-97d1ed53e5a6",
   "metadata": {},
   "outputs": [
    {
     "name": "stdout",
     "output_type": "stream",
     "text": [
      "When the two lists collide, we get: ['star', 'peach', 'lily', 'moon', 'fig', 'lilac']\n",
      "When we remove 'fig', we get: ['star', 'peach', 'lily', 'moon', 'lilac']\n"
     ]
    }
   ],
   "source": [
    "bonjon_list = bon_list + jon_list\n",
    "print(\"When the two lists collide, we get:\", bonjon_list)\n",
    "\n",
    "bonjon_list.remove(\"fig\")\n",
    "print(\"When we remove 'fig', we get:\", bonjon_list)"
   ]
  },
  {
   "cell_type": "markdown",
   "id": "26414da2-2101-43b8-9a3d-24134694bf66",
   "metadata": {},
   "source": [
    "Create a dictionary that has four keys and assign those keys values.\n",
    " - What is the length of the dictionary?"
   ]
  },
  {
   "cell_type": "code",
   "execution_count": 11,
   "id": "9bc7d68d-2c6b-46bf-a81f-963f0acc0e97",
   "metadata": {},
   "outputs": [
    {
     "name": "stdout",
     "output_type": "stream",
     "text": [
      "Bon's Dictionary is as follows: {'birth_month': 'Oct', 'fav_shape': 'Star', 'eye_color': 'Brown', 'fav_sport': 'Running'}\n"
     ]
    },
    {
     "data": {
      "text/plain": [
       "4"
      ]
     },
     "execution_count": 11,
     "metadata": {},
     "output_type": "execute_result"
    }
   ],
   "source": [
    "bon_dictionary = {\n",
    "    \"birth_month\": \"Oct\",\n",
    "    \"fav_shape\": \"Star\",\n",
    "    \"eye_color\": \"Brown\",\n",
    "    \"fav_sport\": \"Running\"}\n",
    "print(\"Bon's Dictionary is as follows:\", bon_dictionary)\n",
    "\n",
    "len(bon_dictionary)"
   ]
  },
  {
   "cell_type": "markdown",
   "id": "41336520-9fd2-4697-bfcd-71c898e03e7d",
   "metadata": {},
   "source": [
    "## Extra Problems"
   ]
  },
  {
   "cell_type": "markdown",
   "id": "9e5d35d6-b2f6-4c4e-bc88-b25bf8e94cd6",
   "metadata": {},
   "source": [
    "1. Write a program that converts degrees Celcius to Degrees Fahrenheit  \n",
    "Hint: (Degrees Celcius × 9/5) + 32 = Degrees Fahrenheit  \n",
    "Degrees Celcius: 10"
   ]
  },
  {
   "cell_type": "code",
   "execution_count": 12,
   "id": "7c1f8a2b-a160-40d4-acfe-1f43f8d31762",
   "metadata": {},
   "outputs": [
    {
     "name": "stdout",
     "output_type": "stream",
     "text": [
      "50.0\n"
     ]
    }
   ],
   "source": [
    "#1 Answer:\n",
    "\n",
    "degree_celc = 10\n",
    "degree_fah = degree_celc * (9/5) + 32\n",
    "print(degree_fah)"
   ]
  },
  {
   "cell_type": "markdown",
   "id": "d4ef322c-d3d5-4d42-bf7a-1f64c99ef1ff",
   "metadata": {},
   "source": [
    "2. Combine the following strings into the quote \"Do or do not. There is no try.\""
   ]
  },
  {
   "cell_type": "code",
   "execution_count": 13,
   "id": "a5810e38-dd22-46dc-be29-f57bd20399d3",
   "metadata": {},
   "outputs": [],
   "source": [
    "a = \"is no try.\"\n",
    "b = \"Do or do not.\"\n",
    "c = \"There\""
   ]
  },
  {
   "cell_type": "code",
   "execution_count": 14,
   "id": "d771fb14-2304-414a-80c2-b3f1a48207cb",
   "metadata": {},
   "outputs": [
    {
     "name": "stdout",
     "output_type": "stream",
     "text": [
      "Do or do not. There is no try.\n"
     ]
    }
   ],
   "source": [
    "#2 Answer:\n",
    "\n",
    "print(b + ' ' + c + ' '+ a)"
   ]
  },
  {
   "cell_type": "markdown",
   "id": "156df329-f172-4bba-a435-8e1e6d5a8a52",
   "metadata": {},
   "source": [
    "3. Write a Python program to calculate the area of a triangle  \n",
    "Hint: Area of Triangle = (Base * Height)/2  \n",
    "Height : 5  \n",
    "Base: 5"
   ]
  },
  {
   "cell_type": "code",
   "execution_count": 15,
   "id": "860aeda9-21f9-4146-9a94-e9e6ce4f098a",
   "metadata": {},
   "outputs": [
    {
     "name": "stdout",
     "output_type": "stream",
     "text": [
      "12.5\n"
     ]
    }
   ],
   "source": [
    "#3 Answer:\n",
    "\n",
    "height = 5\n",
    "base = 5\n",
    "triangle_area = (base * height)/2\n",
    "print(triangle_area)"
   ]
  },
  {
   "cell_type": "markdown",
   "id": "f2708ab6-9698-42a6-bd32-d4699e353b86",
   "metadata": {},
   "source": [
    "4. Write a program that adds NYC sales tax to a purchase  \n",
    "Hint: NYC Sales Tax = 8.875%  \n",
    "Purchase: $234"
   ]
  },
  {
   "cell_type": "code",
   "execution_count": 16,
   "id": "e474a128-aa3e-42c3-aee2-8c939ba6ae92",
   "metadata": {},
   "outputs": [
    {
     "name": "stdout",
     "output_type": "stream",
     "text": [
      "254.77\n"
     ]
    }
   ],
   "source": [
    "#4 Answer:\n",
    "\n",
    "purchase = 234\n",
    "NYC_sales_tax = (8.875/100)\n",
    "total_cost = purchase + (purchase * NYC_sales_tax)\n",
    "print(round(total_cost, 2))"
   ]
  },
  {
   "cell_type": "markdown",
   "id": "9ef610ec-d24f-4544-86e7-0637ec231610",
   "metadata": {},
   "source": [
    "5. Using the speech below return only the second sentence."
   ]
  },
  {
   "cell_type": "code",
   "execution_count": 17,
   "id": "f677062f-77fa-4894-8b7c-08951613d708",
   "metadata": {},
   "outputs": [],
   "source": [
    "quote1 = \"\"\"In '87, Huey released this, Fore, their most accomplished album. I think their undisputed masterpiece is \"Hip to be Square\", a song so catchy, most people probably don't listen to the lyrics. But they should, because it's not just about the pleasures of conformity, and the importance of trends, it's also a personal statement about the band itself.\"\"\""
   ]
  },
  {
   "cell_type": "code",
   "execution_count": 18,
   "id": "ba69d5f7-1c7c-4e57-bfad-03915bc27996",
   "metadata": {},
   "outputs": [
    {
     "name": "stdout",
     "output_type": "stream",
     "text": [
      "But they should, because it's not just about the pleasures of conformity, and the importance of trends, it's also a personal statement about the band itself.\n"
     ]
    }
   ],
   "source": [
    "#5 Answer:\n",
    "\n",
    "lst1 = quote1.split(\". \") # split string into list by \". \"\n",
    "print(lst1[2]) # show only the second sentence"
   ]
  },
  {
   "cell_type": "markdown",
   "id": "091bc0e2-d1c6-489b-a581-c67bf223d166",
   "metadata": {},
   "source": [
    "6. Split the below string into a list:"
   ]
  },
  {
   "cell_type": "code",
   "execution_count": 19,
   "id": "b9dceda8-4335-4d9c-9cda-e9f7659ea65f",
   "metadata": {},
   "outputs": [],
   "source": [
    "quote2 = \"Any fool can write code that a computer can understand. Good programmers write code that humans can understand.\""
   ]
  },
  {
   "cell_type": "code",
   "execution_count": 20,
   "id": "4e9bfb65-9ae2-467c-a48b-8e0114d971bc",
   "metadata": {},
   "outputs": [
    {
     "name": "stdout",
     "output_type": "stream",
     "text": [
      "['Any', 'fool', 'can', 'write', 'code', 'that', 'a', 'computer', 'can', 'understand.', 'Good', 'programmers', 'write', 'code', 'that', 'humans', 'can', 'understand.']\n"
     ]
    }
   ],
   "source": [
    "#6 Answer:\n",
    "\n",
    "print(quote2.split()) # split string into list"
   ]
  },
  {
   "cell_type": "markdown",
   "id": "1258e1ad-926b-4927-a552-e66d45f672e8",
   "metadata": {},
   "source": [
    "7. Using the quote below, return every third word in the quote."
   ]
  },
  {
   "cell_type": "code",
   "execution_count": 21,
   "id": "06519e5f-9099-4528-b1ee-899194aa7d73",
   "metadata": {},
   "outputs": [],
   "source": [
    "quote3 = \"Code is like humor. When you have to explain it, it’s bad.\""
   ]
  },
  {
   "cell_type": "code",
   "execution_count": 22,
   "id": "1a017397-e972-43b5-a81c-83232d3bdd96",
   "metadata": {},
   "outputs": [
    {
     "name": "stdout",
     "output_type": "stream",
     "text": [
      "['like', 'you', 'explain', 'bad.']\n"
     ]
    }
   ],
   "source": [
    "#7 Answer:\n",
    "\n",
    "lst3 = quote3.split() # split string into list \n",
    "print(lst3[2::3]) # start at 2, step every 3"
   ]
  }
 ],
 "metadata": {
  "kernelspec": {
   "display_name": "Python 3 (ipykernel)",
   "language": "python",
   "name": "python3"
  },
  "language_info": {
   "codemirror_mode": {
    "name": "ipython",
    "version": 3
   },
   "file_extension": ".py",
   "mimetype": "text/x-python",
   "name": "python",
   "nbconvert_exporter": "python",
   "pygments_lexer": "ipython3",
   "version": "3.10.9"
  }
 },
 "nbformat": 4,
 "nbformat_minor": 5
}
