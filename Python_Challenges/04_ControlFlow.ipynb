{
 "cells": [
  {
   "cell_type": "markdown",
   "id": "8482fa3a-c284-4938-b413-9a442acc1cc9",
   "metadata": {},
   "source": [
    "# 04 Control Flow"
   ]
  },
  {
   "cell_type": "markdown",
   "id": "52027fb8-27b5-4a04-a97a-3172aa2f13ee",
   "metadata": {},
   "source": [
    "1. Create an IF code block with the following elements:\n",
    "    - weevil_a has a value of 65\n",
    "    - weevil_b has a value of 150\n",
    "    - create an if statement: If weevil_a  is less than weevil_b then print \"weevil_a is the lesser of two weevils\"\n",
    "    - add an 'elif' statement for the condition where weevil_b is smaller\n",
    "    - add an 'else' for the condition that they are equal "
   ]
  },
  {
   "cell_type": "code",
   "execution_count": 1,
   "id": "c41ce732-c80b-406a-9ba1-f6e3de29a793",
   "metadata": {},
   "outputs": [
    {
     "name": "stdout",
     "output_type": "stream",
     "text": [
      "weevil_a is the lesser of two weevils\n"
     ]
    }
   ],
   "source": [
    "# when weevil_a < weevil_b\n",
    "\n",
    "weevil_a = 65\n",
    "weevil_b = 150\n",
    "\n",
    "if weevil_a < weevil_b:\n",
    "    print(\"weevil_a is the lesser of two weevils\")\n",
    "elif weevil_a > weevil_b:\n",
    "    print(\"weevil_b is the lesser of the two weevils\")\n",
    "else:\n",
    "    print(\"weevil_a and weevil_b are equally as evil\")"
   ]
  },
  {
   "cell_type": "code",
   "execution_count": 2,
   "id": "98b55900-5a2d-4938-ae58-d130368f3835",
   "metadata": {},
   "outputs": [
    {
     "name": "stdout",
     "output_type": "stream",
     "text": [
      "weevil_b is the lesser of the two weevils\n"
     ]
    }
   ],
   "source": [
    "# when weevil_a > weevil_b\n",
    "\n",
    "weevil_a = 9999\n",
    "weevil_b = 2\n",
    "\n",
    "if weevil_a < weevil_b:\n",
    "    print(\"weevil_a is the lesser of two weevils\")\n",
    "elif weevil_a > weevil_b:\n",
    "    print(\"weevil_b is the lesser of the two weevils\")\n",
    "else:\n",
    "    print(\"weevil_a and weevil_b are equally as evil\")"
   ]
  },
  {
   "cell_type": "code",
   "execution_count": 3,
   "id": "33a7aa8b-6764-495d-976f-28723811e71c",
   "metadata": {},
   "outputs": [
    {
     "name": "stdout",
     "output_type": "stream",
     "text": [
      "weevil_a and weevil_b are equally as evil\n"
     ]
    }
   ],
   "source": [
    "# when weevil_a == weevil_b\n",
    "\n",
    "weevil_a = 35\n",
    "weevil_b = 35\n",
    "\n",
    "if weevil_a < weevil_b:\n",
    "    print(\"weevil_a is the lesser of two weevils\")\n",
    "elif weevil_a > weevil_b:\n",
    "    print(\"weevil_b is the lesser of the two weevils\")\n",
    "else:\n",
    "    print(\"weevil_a and weevil_b are equally as evil\")"
   ]
  },
  {
   "cell_type": "markdown",
   "id": "448de8fd-38ca-4dd0-9172-eee8a3631ec6",
   "metadata": {},
   "source": [
    "2. Create a WHILE code block using the AND operator with the following elements:\n",
    "    - x = 1\n",
    "    - while x < 25 execute the following logic:\n",
    "        - print x\n",
    "        - IF x > 12  AND x < 20, print the statement \"the troubled teen years\" \n",
    "        - increment x by 1 "
   ]
  },
  {
   "cell_type": "code",
   "execution_count": 4,
   "id": "9c09a561-4fe0-41f4-9f83-f13629f707d9",
   "metadata": {},
   "outputs": [
    {
     "name": "stdout",
     "output_type": "stream",
     "text": [
      "1\n",
      "2\n",
      "3\n",
      "4\n",
      "5\n",
      "6\n",
      "7\n",
      "8\n",
      "9\n",
      "10\n",
      "11\n",
      "12\n",
      "13\n",
      "the troubled teen years\n",
      "14\n",
      "the troubled teen years\n",
      "15\n",
      "the troubled teen years\n",
      "16\n",
      "the troubled teen years\n",
      "17\n",
      "the troubled teen years\n",
      "18\n",
      "the troubled teen years\n",
      "19\n",
      "the troubled teen years\n",
      "20\n",
      "21\n",
      "22\n",
      "23\n",
      "24\n"
     ]
    }
   ],
   "source": [
    "x = 1\n",
    "\n",
    "while x < 25:\n",
    "    print(x)\n",
    "    if x > 12 and x < 20:\n",
    "        print(\"the troubled teen years\")\n",
    "    x += 1"
   ]
  },
  {
   "cell_type": "markdown",
   "id": "c50856e1-c927-4c23-bcd3-07993fe7d11e",
   "metadata": {},
   "source": [
    "3. Create a FOR loop with the following elements:\n",
    "    - Create a list of grocery items (e.g. groceries = ['bread', 'milk', etc...])\n",
    "    - Iterate through the list using a FOR loop and a variable 'item'\n",
    "    - Print \"I forgot the \" and then the item in the list (e.g. \"I forgot the bread\")\n",
    "    - Add an IF block inside the FOR loop that checks if the item == 'kale' and print \"nobody likes kale, anyway\""
   ]
  },
  {
   "cell_type": "code",
   "execution_count": 5,
   "id": "0a481c01-2cd4-4eff-91c3-bb7569690c08",
   "metadata": {},
   "outputs": [
    {
     "name": "stdout",
     "output_type": "stream",
     "text": [
      "I forgot the fig jam\n",
      "I forgot the brie\n",
      "I forgot the arugula\n",
      "I forgot the bread\n",
      "I forgot the kale\n",
      "Nobody likes kale anyway!\n"
     ]
    }
   ],
   "source": [
    "groceries = [\"fig jam\", \"brie\", \"arugula\", \"bread\", \"kale\"]\n",
    "\n",
    "for item in groceries:\n",
    "    print(\"I forgot the\", item)\n",
    "    if item == \"kale\":\n",
    "        print(\"Nobody likes kale anyway!\")"
   ]
  },
  {
   "cell_type": "markdown",
   "id": "a4f9e5c7-9947-4275-a792-7c76f5d15c21",
   "metadata": {},
   "source": [
    "Misread the question and initially wrote this code. Left it just because!"
   ]
  },
  {
   "cell_type": "code",
   "execution_count": 6,
   "id": "465a7e04-a12a-4657-af86-76de1d6985c2",
   "metadata": {},
   "outputs": [
    {
     "name": "stdout",
     "output_type": "stream",
     "text": [
      "To make a yummy sandwich, I need to get these from the store:\n",
      "fig jam\n",
      "brie\n",
      "arugula\n",
      "bread\n",
      "kale\n",
      "Nobody likes kale anyway! So we'll leave it\n",
      "Oh no, I forgot the bread\n"
     ]
    }
   ],
   "source": [
    "groceries = [\"fig jam\", \"brie\", \"arugula\", \"bread\", \"kale\"]\n",
    "\n",
    "print(\"To make a yummy sandwich, I need to get these from the store:\")\n",
    "\n",
    "for item in groceries:\n",
    "    print(item)\n",
    "    if item == \"kale\":\n",
    "        print(\"Nobody likes kale anyway! So we'll leave it\")\n",
    "    \n",
    "print(\"Oh no, I forgot the\", groceries[3])"
   ]
  }
 ],
 "metadata": {
  "kernelspec": {
   "display_name": "Python 3 (ipykernel)",
   "language": "python",
   "name": "python3"
  },
  "language_info": {
   "codemirror_mode": {
    "name": "ipython",
    "version": 3
   },
   "file_extension": ".py",
   "mimetype": "text/x-python",
   "name": "python",
   "nbconvert_exporter": "python",
   "pygments_lexer": "ipython3",
   "version": "3.10.9"
  }
 },
 "nbformat": 4,
 "nbformat_minor": 5
}
