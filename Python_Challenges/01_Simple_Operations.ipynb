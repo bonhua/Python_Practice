{
 "cells": [
  {
   "cell_type": "markdown",
   "id": "779300e2-4baa-41f5-9d87-64ec101c5585",
   "metadata": {},
   "source": [
    "# 01 Simple Operations"
   ]
  },
  {
   "cell_type": "markdown",
   "id": "d54760bd-2b2a-4f08-b7d0-3ce82cffc7fa",
   "metadata": {},
   "source": [
    "### Import the math library and assign it the alias *m*."
   ]
  },
  {
   "cell_type": "code",
   "execution_count": 1,
   "id": "13ee096c-1b3a-4209-9bd9-c203feaa26f2",
   "metadata": {},
   "outputs": [],
   "source": [
    "import math as m"
   ]
  },
  {
   "cell_type": "markdown",
   "id": "79773d95-b3ce-483c-9841-aff6eb685a56",
   "metadata": {},
   "source": [
    "## Calulate the area of geometric figures:"
   ]
  },
  {
   "cell_type": "markdown",
   "id": "f44af65b-7a0c-4cca-8726-2966a92777a1",
   "metadata": {},
   "source": [
    "### 1. Circle"
   ]
  },
  {
   "cell_type": "code",
   "execution_count": 2,
   "id": "bf7a453c-22a8-4a95-83be-c7462c8f112d",
   "metadata": {},
   "outputs": [
    {
     "name": "stdout",
     "output_type": "stream",
     "text": [
      "The area of a circle with a radius of 10 is 314.16\n"
     ]
    }
   ],
   "source": [
    "radius = 10\n",
    "circle_area = m.pi * radius**2\n",
    "print (\"The area of a circle with a radius of\", radius, \"is\", round(circle_area,2))"
   ]
  },
  {
   "cell_type": "markdown",
   "id": "43f9d7c7-36e7-4101-b76d-a3bfc7e06999",
   "metadata": {},
   "source": [
    "### 2. Square"
   ]
  },
  {
   "cell_type": "code",
   "execution_count": 3,
   "id": "84020b0d-2c2d-4d15-aa7b-63acc98bef1d",
   "metadata": {},
   "outputs": [
    {
     "name": "stdout",
     "output_type": "stream",
     "text": [
      "The area of a square with a side of 12 is 144\n"
     ]
    }
   ],
   "source": [
    "side = 12\n",
    "square_area = side**2\n",
    "print (\"The area of a square with a side of\", side, \"is\", square_area)"
   ]
  },
  {
   "cell_type": "markdown",
   "id": "dcccccbb-f3c9-41ab-a27d-5b695341aa1c",
   "metadata": {},
   "source": [
    "### 3. Rectangle"
   ]
  },
  {
   "cell_type": "code",
   "execution_count": 4,
   "id": "8794ecf7-f42d-4b44-9c15-c931873a86d3",
   "metadata": {},
   "outputs": [
    {
     "name": "stdout",
     "output_type": "stream",
     "text": [
      "The area of a rectangle with a length of 8 and a width of 13 is 104\n"
     ]
    }
   ],
   "source": [
    "length = 8\n",
    "width = 13\n",
    "rectangle_area = length * width\n",
    "print (\"The area of a rectangle with a length of\", length, \"and a width of\", width, \"is\", rectangle_area)"
   ]
  },
  {
   "cell_type": "markdown",
   "id": "36e6297a-b051-4e33-b124-ba5b7082a3b9",
   "metadata": {},
   "source": [
    "### 4. Triangle"
   ]
  },
  {
   "cell_type": "code",
   "execution_count": 5,
   "id": "d36c1edc-bad9-4ea2-8857-0d5b8eeee0d9",
   "metadata": {},
   "outputs": [
    {
     "name": "stdout",
     "output_type": "stream",
     "text": [
      "The area of a triangle with a base of 4 and a height of 100 is approximately 200\n"
     ]
    }
   ],
   "source": [
    "base = 4\n",
    "height = 100\n",
    "triangle_area = 1/2 * base * height\n",
    "print (\"The area of a triangle with a base of\", base, \"and a height of\", height, \"is approximately\", int(triangle_area))"
   ]
  },
  {
   "cell_type": "markdown",
   "id": "78c14d1d-7ad7-4ed2-92e5-761d98252b94",
   "metadata": {},
   "source": [
    "### 5. Ellipse"
   ]
  },
  {
   "cell_type": "code",
   "execution_count": 6,
   "id": "06606d1f-318a-4e21-bdc8-584377fd44ad",
   "metadata": {},
   "outputs": [
    {
     "name": "stdout",
     "output_type": "stream",
     "text": [
      "The area of an ellipse with a major axis of 7 and a minor axis of 5 is approximately 110\n"
     ]
    }
   ],
   "source": [
    "major_axis = 7\n",
    "minor_axis = 5\n",
    "ellipse_area = m.pi * major_axis * minor_axis\n",
    "print (\"The area of an ellipse with a major axis of\", major_axis, \"and a minor axis of\", minor_axis, \"is approximately\", round(ellipse_area))"
   ]
  },
  {
   "cell_type": "markdown",
   "id": "2e77f647-5d2b-45a6-bb52-63c7ad3434be",
   "metadata": {},
   "source": [
    "### 6. Trapezoid"
   ]
  },
  {
   "cell_type": "code",
   "execution_count": 7,
   "id": "1491eea4-f737-4e00-840c-262465377f74",
   "metadata": {},
   "outputs": [
    {
     "name": "stdout",
     "output_type": "stream",
     "text": [
      "The area of a trapezoid with a base of 3 and a base of 6 and a height of 9 is 40.5\n"
     ]
    }
   ],
   "source": [
    "base_1 = 3\n",
    "base_2 = 6\n",
    "height = 9\n",
    "trapezoid_area = (base_1 + base_2)/2 * height\n",
    "print (\"The area of a trapezoid with a base of\", base_1, \"and a base of\", base_2, \"and a height of\", height, \"is\", trapezoid_area)"
   ]
  },
  {
   "cell_type": "markdown",
   "id": "183cde37-c073-4563-bcf5-295e03220a8e",
   "metadata": {},
   "source": [
    "## Angles"
   ]
  },
  {
   "cell_type": "markdown",
   "id": "b5df66c1-d22e-43ae-86d2-0f8ee957a9fd",
   "metadata": {},
   "source": [
    "Create a variable called 'angle' and assign it a value of 45."
   ]
  },
  {
   "cell_type": "code",
   "execution_count": 8,
   "id": "115349fe-6315-43ab-846f-da63e05f8b29",
   "metadata": {},
   "outputs": [
    {
     "name": "stdout",
     "output_type": "stream",
     "text": [
      "45\n"
     ]
    }
   ],
   "source": [
    "angle = 45\n",
    "print(angle)"
   ]
  },
  {
   "cell_type": "markdown",
   "id": "786155d1-9c52-4a15-a8c6-2dbffd4323f6",
   "metadata": {},
   "source": [
    "Create a variable called 'rad_angle' and use a math function to determine what 45 degrees is in radians."
   ]
  },
  {
   "cell_type": "code",
   "execution_count": 9,
   "id": "ece703d0-0c0d-479e-9ad1-7996a4654fdd",
   "metadata": {},
   "outputs": [
    {
     "name": "stdout",
     "output_type": "stream",
     "text": [
      "The angle in 45 degrees is approximately 0.785 in radians.\n"
     ]
    }
   ],
   "source": [
    "rad_angle = round(m.radians(angle),3)\n",
    "print(\"The angle in 45 degrees is approximately\", rad_angle, \"in radians.\")"
   ]
  },
  {
   "cell_type": "markdown",
   "id": "e37c997d-4a90-45f6-9a85-0e291a25878c",
   "metadata": {},
   "source": [
    "Calculate the sin of rad_angle."
   ]
  },
  {
   "cell_type": "code",
   "execution_count": 10,
   "id": "6335f87c-69e7-4d84-96c9-6db0b5e663b5",
   "metadata": {},
   "outputs": [
    {
     "name": "stdout",
     "output_type": "stream",
     "text": [
      "Sin of 45 degrees is approximately 0.707\n"
     ]
    }
   ],
   "source": [
    "sin = round(m.sin(rad_angle),3)\n",
    "print(\"Sin of 45 degrees is approximately\", sin)"
   ]
  },
  {
   "cell_type": "markdown",
   "id": "72fa10e7-5e79-4db6-98d3-6a89c9d4c4ab",
   "metadata": {},
   "source": [
    "Calculate the cos of rad_angle."
   ]
  },
  {
   "cell_type": "code",
   "execution_count": 11,
   "id": "7e5aef9c-0adf-4917-bdb7-f65601cc23d2",
   "metadata": {},
   "outputs": [
    {
     "name": "stdout",
     "output_type": "stream",
     "text": [
      "Cos of 45 degrees is approximately 0.707\n"
     ]
    }
   ],
   "source": [
    "cos = round(m.cos(rad_angle),3)\n",
    "print(\"Cos of 45 degrees is approximately\", cos)"
   ]
  },
  {
   "cell_type": "markdown",
   "id": "2f6de8f0-a29c-4149-8971-9b2f3bb5552f",
   "metadata": {},
   "source": [
    "Calculate the square root of 256."
   ]
  },
  {
   "cell_type": "code",
   "execution_count": 12,
   "id": "f35fb5ed-4f54-42eb-a388-af0a9b0f14ec",
   "metadata": {},
   "outputs": [
    {
     "name": "stdout",
     "output_type": "stream",
     "text": [
      "The square root of 256 is 16\n"
     ]
    }
   ],
   "source": [
    "sqrt = int(m.sqrt(256))\n",
    "print(\"The square root of 256 is\", sqrt)"
   ]
  },
  {
   "cell_type": "markdown",
   "id": "33607de4-f0b4-41a0-a9b0-34c0fd2063e1",
   "metadata": {},
   "source": [
    "Calculate 4 raised to the 5th power."
   ]
  },
  {
   "cell_type": "code",
   "execution_count": 13,
   "id": "bb9ebb67-5c85-42ee-b404-e447dc670ca2",
   "metadata": {},
   "outputs": [
    {
     "name": "stdout",
     "output_type": "stream",
     "text": [
      "When 4 is raised to the 5th power, it equals 1024\n"
     ]
    }
   ],
   "source": [
    "_4raised_5thpwr = (4**5)\n",
    "print(\"When 4 is raised to the 5th power, it equals\", _4raised_5thpwr)"
   ]
  }
 ],
 "metadata": {
  "kernelspec": {
   "display_name": "Python 3 (ipykernel)",
   "language": "python",
   "name": "python3"
  },
  "language_info": {
   "codemirror_mode": {
    "name": "ipython",
    "version": 3
   },
   "file_extension": ".py",
   "mimetype": "text/x-python",
   "name": "python",
   "nbconvert_exporter": "python",
   "pygments_lexer": "ipython3",
   "version": "3.10.9"
  }
 },
 "nbformat": 4,
 "nbformat_minor": 5
}
