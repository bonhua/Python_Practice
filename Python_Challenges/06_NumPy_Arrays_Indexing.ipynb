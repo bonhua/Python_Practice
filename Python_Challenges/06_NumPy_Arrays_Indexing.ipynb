{
 "cells": [
  {
   "cell_type": "markdown",
   "id": "c6fdbcd6-3973-45ae-9fc0-be19bb539cdf",
   "metadata": {},
   "source": [
    "# <center> 06 NumPy Arrays & Indexing"
   ]
  },
  {
   "cell_type": "code",
   "execution_count": 1,
   "id": "ec42d119-d7e9-4e6a-9ef5-5107ab7a7d03",
   "metadata": {},
   "outputs": [],
   "source": [
    "import numpy as np"
   ]
  },
  {
   "cell_type": "markdown",
   "id": "c2829df0-6045-44cb-8979-f86ca543605c",
   "metadata": {},
   "source": [
    "1. Create a numpy array called ‘height in inches’ from a list 10 of numbers: [66, 68, 71, 64, 61, 74, 64, 65, 70, 71]."
   ]
  },
  {
   "cell_type": "code",
   "execution_count": 6,
   "id": "b9fb5468-a0b6-4361-80fa-403667ab642e",
   "metadata": {},
   "outputs": [
    {
     "name": "stdout",
     "output_type": "stream",
     "text": [
      "[66 68 71 64 61 74 64 65 70 71]\n"
     ]
    }
   ],
   "source": [
    "height_in_inches = np.array([66, 68, 71, 64, 61, 74, 64, 65, 70, 71])\n",
    "print(height_in_inches)"
   ]
  },
  {
   "cell_type": "markdown",
   "id": "d8d371ca-7a8d-4eb8-9680-a0521d0917ec",
   "metadata": {},
   "source": [
    "2. Create a new array called ‘height_in_feet’ and make its values equal to the values in the first array divided by 12."
   ]
  },
  {
   "cell_type": "code",
   "execution_count": 7,
   "id": "5522863d-a3d2-40a1-905d-aced0eee435e",
   "metadata": {},
   "outputs": [
    {
     "name": "stdout",
     "output_type": "stream",
     "text": [
      "[5.5        5.66666667 5.91666667 5.33333333 5.08333333 6.16666667\n",
      " 5.33333333 5.41666667 5.83333333 5.91666667]\n"
     ]
    }
   ],
   "source": [
    "height_in_feet = (height_in_inches/12)\n",
    "print(height_in_feet)"
   ]
  },
  {
   "cell_type": "markdown",
   "id": "9d0c18ed-4ddd-485e-9e2a-2e6036b8e48d",
   "metadata": {},
   "source": [
    "3. Create a 5x5 array of zeros."
   ]
  },
  {
   "cell_type": "code",
   "execution_count": 19,
   "id": "09978675-79ab-4849-ae30-30039d9c62e9",
   "metadata": {},
   "outputs": [
    {
     "name": "stdout",
     "output_type": "stream",
     "text": [
      "[[0. 0. 0. 0. 0.]\n",
      " [0. 0. 0. 0. 0.]\n",
      " [0. 0. 0. 0. 0.]\n",
      " [0. 0. 0. 0. 0.]\n",
      " [0. 0. 0. 0. 0.]]\n"
     ]
    }
   ],
   "source": [
    "array_of_zeros = np.zeros([5,5])\n",
    "print(array_of_zeros)"
   ]
  },
  {
   "cell_type": "markdown",
   "id": "0326089c-2aa6-4cf6-9c2f-d8c4195ea5b7",
   "metadata": {},
   "source": [
    "4. Create an array of random floating point numbers between 0 and 100."
   ]
  },
  {
   "cell_type": "code",
   "execution_count": 84,
   "id": "3ed64e98-2b6a-4a5b-8c58-45b4b6c80edb",
   "metadata": {},
   "outputs": [
    {
     "name": "stdout",
     "output_type": "stream",
     "text": [
      "[[[93.10608531 40.22337457]\n",
      "  [77.49864522 33.34719976]]\n",
      "\n",
      " [[21.56593757 41.22162309]\n",
      "  [61.1608636  34.62032942]]]\n"
     ]
    },
    {
     "data": {
      "text/plain": [
       "numpy.ndarray"
      ]
     },
     "execution_count": 84,
     "metadata": {},
     "output_type": "execute_result"
    }
   ],
   "source": [
    "float_array1 = np.random.random((2,2,2)) * 100\n",
    "print(float_array1)\n",
    "type(float_array1)"
   ]
  },
  {
   "cell_type": "code",
   "execution_count": 89,
   "id": "95d089bd-ef97-4bde-8766-0d629a327252",
   "metadata": {},
   "outputs": [
    {
     "name": "stdout",
     "output_type": "stream",
     "text": [
      "[[[63.03578714]\n",
      "  [22.01842093]]\n",
      "\n",
      " [[ 0.85453888]\n",
      "  [39.89836441]]\n",
      "\n",
      " [[18.24527329]\n",
      "  [92.93571931]]]\n"
     ]
    },
    {
     "data": {
      "text/plain": [
       "numpy.ndarray"
      ]
     },
     "execution_count": 89,
     "metadata": {},
     "output_type": "execute_result"
    }
   ],
   "source": [
    "float_array2 = np.random.rand(3,2,1) * 100\n",
    "print(float_array2)\n",
    "type(float_array2)"
   ]
  },
  {
   "cell_type": "markdown",
   "id": "84e9cd9a-1918-4f92-b869-e7315eba211b",
   "metadata": {},
   "source": [
    "5. Create an array of numbers from 0 to 75 in increments of 5."
   ]
  },
  {
   "cell_type": "code",
   "execution_count": 34,
   "id": "ade81921-444d-4c3f-a7c6-f772c788738c",
   "metadata": {},
   "outputs": [
    {
     "name": "stdout",
     "output_type": "stream",
     "text": [
      "[ 0  5 10 15 20 25 30 35 40 45 50 55 60 65 70]\n"
     ]
    }
   ],
   "source": [
    "num_array = np.arange(0,75,5)\n",
    "print(num_array)"
   ]
  }
 ],
 "metadata": {
  "kernelspec": {
   "display_name": "Python 3 (ipykernel)",
   "language": "python",
   "name": "python3"
  },
  "language_info": {
   "codemirror_mode": {
    "name": "ipython",
    "version": 3
   },
   "file_extension": ".py",
   "mimetype": "text/x-python",
   "name": "python",
   "nbconvert_exporter": "python",
   "pygments_lexer": "ipython3",
   "version": "3.10.9"
  }
 },
 "nbformat": 4,
 "nbformat_minor": 5
}
