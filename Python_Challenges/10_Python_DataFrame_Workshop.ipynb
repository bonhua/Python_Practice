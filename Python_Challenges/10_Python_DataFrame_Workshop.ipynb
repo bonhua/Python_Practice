{
 "cells": [
  {
   "cell_type": "markdown",
   "id": "3fa39eda-70b2-40f4-86be-1011e6278057",
   "metadata": {},
   "source": [
    "# <center> 10 Python DataFrame Workshop"
   ]
  },
  {
   "cell_type": "markdown",
   "id": "1803f05f-e409-447a-b662-f7f8b954a8b9",
   "metadata": {},
   "source": [
    "## **READING THE DATA**"
   ]
  },
  {
   "cell_type": "code",
   "execution_count": 1,
   "id": "cf58eafe-8895-4623-93e0-ebbd80c64aca",
   "metadata": {},
   "outputs": [],
   "source": [
    "import pandas as pd\n",
    "import matplotlib.pyplot as plt"
   ]
  },
  {
   "cell_type": "code",
   "execution_count": 2,
   "id": "bdfaf28e-04dc-402b-abf6-cfbd2d64e28b",
   "metadata": {},
   "outputs": [],
   "source": [
    "airbnb = pd.read_excel(\"Airbnb.xlsx\")"
   ]
  },
  {
   "cell_type": "markdown",
   "id": "ce05020a-9fe6-4164-8fae-6ac37e232145",
   "metadata": {},
   "source": [
    "## **EXPLORING THE DATA**"
   ]
  },
  {
   "cell_type": "code",
   "execution_count": 45,
   "id": "fcd3051d-6b5e-4a0e-9149-5d3921d6d7fb",
   "metadata": {},
   "outputs": [
    {
     "name": "stdout",
     "output_type": "stream",
     "text": [
      "<class 'pandas.core.frame.DataFrame'>\n",
      "RangeIndex: 1211 entries, 0 to 1210\n",
      "Data columns (total 14 columns):\n",
      " #   Column                          Non-Null Count  Dtype  \n",
      "---  ------                          --------------  -----  \n",
      " 0   id                              1211 non-null   int64  \n",
      " 1   host_id                         1211 non-null   int64  \n",
      " 2   host_name                       1210 non-null   object \n",
      " 3   neighbourhood_group             1211 non-null   object \n",
      " 4   neighbourhood                   1211 non-null   object \n",
      " 5   room_type                       1211 non-null   object \n",
      " 6   price                           1211 non-null   int64  \n",
      " 7   minimum_nights                  1211 non-null   int64  \n",
      " 8   number_of_reviews               1211 non-null   int64  \n",
      " 9   last_review                     1161 non-null   float64\n",
      " 10  reviews_per_month               1161 non-null   float64\n",
      " 11  calculated_host_listings_count  1211 non-null   int64  \n",
      " 12  availability_365                1211 non-null   int64  \n",
      " 13  rating                          1211 non-null   float64\n",
      "dtypes: float64(3), int64(7), object(4)\n",
      "memory usage: 132.6+ KB\n"
     ]
    }
   ],
   "source": [
    "airbnb.info()"
   ]
  },
  {
   "cell_type": "code",
   "execution_count": 34,
   "id": "8713dadd-e533-4833-aa57-36683b72c958",
   "metadata": {},
   "outputs": [
    {
     "data": {
      "text/plain": [
       "Index(['id', 'host_id', 'host_name', 'neighbourhood_group', 'neighbourhood',\n",
       "       'room_type', 'price', 'minimum_nights', 'number_of_reviews',\n",
       "       'last_review', 'reviews_per_month', 'calculated_host_listings_count',\n",
       "       'availability_365', 'rating'],\n",
       "      dtype='object')"
      ]
     },
     "execution_count": 34,
     "metadata": {},
     "output_type": "execute_result"
    }
   ],
   "source": [
    "airbnb.columns"
   ]
  },
  {
   "cell_type": "code",
   "execution_count": null,
   "id": "b4efa0bf-ca4d-415f-884f-3c0f35b787f5",
   "metadata": {},
   "outputs": [],
   "source": [
    "airbnb.head(5)"
   ]
  },
  {
   "cell_type": "markdown",
   "id": "0d0ddfef-8ed3-4e82-85bd-1d3e1a0a5a25",
   "metadata": {},
   "source": [
    "## **CLEANING THE DATA**"
   ]
  },
  {
   "cell_type": "code",
   "execution_count": null,
   "id": "1a2ff6bd-eaf6-458d-8e2d-3da2415d5068",
   "metadata": {
    "tags": []
   },
   "outputs": [],
   "source": [
    "airbnb.neighbourhood_group.unique()"
   ]
  },
  {
   "cell_type": "code",
   "execution_count": null,
   "id": "14a07d95-ec1e-4956-8c53-471cf5efef92",
   "metadata": {},
   "outputs": [],
   "source": [
    "airbnb.neighbourhood.unique()"
   ]
  },
  {
   "cell_type": "code",
   "execution_count": null,
   "id": "1a8d2afc-2d16-4cc0-a3f0-1ae07697711e",
   "metadata": {},
   "outputs": [],
   "source": [
    "airbnb.room_type.unique()"
   ]
  },
  {
   "cell_type": "code",
   "execution_count": 3,
   "id": "2a48b55a-75f0-4835-8715-38b01af7c770",
   "metadata": {},
   "outputs": [],
   "source": [
    "cleaned_airbnb = airbnb.replace(\"Brooklynn\",\"Brooklyn\",regex=True)\n",
    "cleaned_airbnb = cleaned_airbnb.replace(\"Privaate room\",\"Private room\",regex=True)\n",
    "#cleaned_airbnb.neighbourhood_group.unique()\n",
    "#cleaned_airbnb.neighbourhood.unique()\n",
    "#cleaned_airbnb.room_type.unique()"
   ]
  },
  {
   "cell_type": "code",
   "execution_count": null,
   "id": "a25de084-e39b-4468-a907-3200f5d41090",
   "metadata": {},
   "outputs": [],
   "source": [
    "cleaned_airbnb.duplicated().sum()"
   ]
  },
  {
   "cell_type": "code",
   "execution_count": 4,
   "id": "3c49ff00-0051-49f4-913a-a19d8e3c8d39",
   "metadata": {},
   "outputs": [
    {
     "data": {
      "text/plain": [
       "0"
      ]
     },
     "execution_count": 4,
     "metadata": {},
     "output_type": "execute_result"
    }
   ],
   "source": [
    "cleaned_airbnb = cleaned_airbnb.drop_duplicates()\n",
    "cleaned_airbnb.duplicated().sum()"
   ]
  },
  {
   "cell_type": "markdown",
   "id": "3d66e290-5d71-4f24-8d69-745bf7ebfc42",
   "metadata": {},
   "source": [
    "### The data has been polished up under df \"cleaned_airbnb\". Let us now ravage through and analyze the jungle for some gems!"
   ]
  },
  {
   "cell_type": "markdown",
   "id": "80d07657-f946-4590-981a-89a4c274143f",
   "metadata": {},
   "source": [
    "## **ANALYZING THE DATA**"
   ]
  },
  {
   "cell_type": "markdown",
   "id": "13b82b0c-4889-4337-be77-5337ca33a212",
   "metadata": {},
   "source": [
    "Guiding Questions:\n",
    "1. What's the average room price in each borough?\n",
    "2. What neighborhood has the most expensive rentals (max of mean)?\n",
    "3. What type of room costs the most? The least?\n",
    "4. Are higher ratings correlated with higher prices?\n",
    "5. Are hosts with more rentals more likely to receive higher ratings?\n",
    "6. What's the \"best\" rental in NYC, considering location, price, and rating? (This is a subjective judgment, but make sure you justify your choice.)"
   ]
  },
  {
   "cell_type": "markdown",
   "id": "82fb46e4-79ff-4540-990c-9d0e09302f00",
   "metadata": {
    "tags": []
   },
   "source": [
    "#### 1. What's the average room price in each borough?"
   ]
  },
  {
   "cell_type": "code",
   "execution_count": 24,
   "id": "c5f7d3b2-9feb-4e19-ad7c-bd07fd67ec47",
   "metadata": {},
   "outputs": [
    {
     "data": {
      "text/html": [
       "<div>\n",
       "<style scoped>\n",
       "    .dataframe tbody tr th:only-of-type {\n",
       "        vertical-align: middle;\n",
       "    }\n",
       "\n",
       "    .dataframe tbody tr th {\n",
       "        vertical-align: top;\n",
       "    }\n",
       "\n",
       "    .dataframe thead th {\n",
       "        text-align: right;\n",
       "    }\n",
       "</style>\n",
       "<table border=\"1\" class=\"dataframe\">\n",
       "  <thead>\n",
       "    <tr style=\"text-align: right;\">\n",
       "      <th></th>\n",
       "      <th>price</th>\n",
       "    </tr>\n",
       "    <tr>\n",
       "      <th>neighbourhood_group</th>\n",
       "      <th></th>\n",
       "    </tr>\n",
       "  </thead>\n",
       "  <tbody>\n",
       "    <tr>\n",
       "      <th>Manhattan</th>\n",
       "      <td>181.99</td>\n",
       "    </tr>\n",
       "    <tr>\n",
       "      <th>Brooklyn</th>\n",
       "      <td>148.76</td>\n",
       "    </tr>\n",
       "    <tr>\n",
       "      <th>Queens</th>\n",
       "      <td>96.10</td>\n",
       "    </tr>\n",
       "    <tr>\n",
       "      <th>Staten Island</th>\n",
       "      <td>75.21</td>\n",
       "    </tr>\n",
       "    <tr>\n",
       "      <th>Bronx</th>\n",
       "      <td>67.65</td>\n",
       "    </tr>\n",
       "  </tbody>\n",
       "</table>\n",
       "</div>"
      ],
      "text/plain": [
       "                      price\n",
       "neighbourhood_group        \n",
       "Manhattan            181.99\n",
       "Brooklyn             148.76\n",
       "Queens                96.10\n",
       "Staten Island         75.21\n",
       "Bronx                 67.65"
      ]
     },
     "execution_count": 24,
     "metadata": {},
     "output_type": "execute_result"
    }
   ],
   "source": [
    "#avg room price \"price\"\n",
    "#by borough \"neighbourhood_group\"\n",
    "\n",
    "avg_price_by_borough = cleaned_airbnb.pivot_table(index=\"neighbourhood_group\", values=\"price\").round(2)\n",
    "avg_price_by_borough_desc = avg_price_by_borough.sort_values(by=\"price\", ascending=False) # sort by highest -> lowest avg price\n",
    "avg_price_by_borough_desc"
   ]
  },
  {
   "cell_type": "markdown",
   "id": "6ca15ee1-ea68-47f5-9b16-e2331417434b",
   "metadata": {
    "tags": []
   },
   "source": [
    "#### What did we find?"
   ]
  },
  {
   "cell_type": "raw",
   "id": "16fd3b74-3d9f-4d10-96e5-7951f2d730af",
   "metadata": {},
   "source": [
    "- Manhattan has highest average room price at ~$182 with Brooklyn in second at ~$149. \n",
    "- Queens (~$96), Staten Island (~$75), and Bronx (~$68) have average room prices below $100.\n",
    "- Bronx has the lowest average room price at ~$68.\n",
    "- Average room price in Manhattan and Brooklyn were at least 2x more expensive than those in Staten island and the Bronx."
   ]
  },
  {
   "cell_type": "code",
   "execution_count": 64,
   "id": "9e2cb209-adb7-45db-b204-9406b9a58731",
   "metadata": {},
   "outputs": [
    {
     "data": {
      "text/plain": [
       "Text(0.5, 1.0, 'Average Room Price by Borough')"
      ]
     },
     "execution_count": 64,
     "metadata": {},
     "output_type": "execute_result"
    },
    {
     "data": {
      "image/png": "[encoded data removed]",
      "text/plain": [
       "<Figure size 500x300 with 1 Axes>"
      ]
     },
     "metadata": {},
     "output_type": "display_data"
    }
   ],
   "source": [
    "Borough = [\"Manhattan\", \"Brooklyn\", \"Queens\", \"Staten Island\", \"Bronx\"]\n",
    "Price = [181.99, 148.76, 96.10, 75.21, 67.65]\n",
    "\n",
    "\n",
    "plt.figure(figsize=(5,3))\n",
    "\n",
    "plt.bar(Borough, Price, color=[\"#7D3330\",\"#7D3330\", \"#307D5A\",\"#307D5A\",\"#307D5A\"], edgecolor=\"black\")\n",
    "\n",
    "plt.xlabel(\"Borough\")\n",
    "plt.ylabel(\"Average Room Price\")\n",
    "plt.title(\"Average Room Price by Borough\")"
   ]
  },
  {
   "cell_type": "markdown",
   "id": "4ba8d7e6-05f0-4c0e-9831-02be6884f6a1",
   "metadata": {},
   "source": [
    "#### 2. What neighborhood has the most expensive rentals (max of mean)?"
   ]
  },
  {
   "cell_type": "code",
   "execution_count": null,
   "id": "0777e10e-355b-4fac-8441-a480d196e93b",
   "metadata": {},
   "outputs": [],
   "source": [
    "# max of avg rentals \"price\"\n",
    "# by neighborhood \"neighbourhood\""
   ]
  },
  {
   "cell_type": "code",
   "execution_count": 15,
   "id": "640d41e9-46e3-457a-8c56-a89e4e11b729",
   "metadata": {},
   "outputs": [
    {
     "data": {
      "text/html": [
       "<div>\n",
       "<style scoped>\n",
       "    .dataframe tbody tr th:only-of-type {\n",
       "        vertical-align: middle;\n",
       "    }\n",
       "\n",
       "    .dataframe tbody tr th {\n",
       "        vertical-align: top;\n",
       "    }\n",
       "\n",
       "    .dataframe thead th {\n",
       "        text-align: right;\n",
       "    }\n",
       "</style>\n",
       "<table border=\"1\" class=\"dataframe\">\n",
       "  <thead>\n",
       "    <tr style=\"text-align: right;\">\n",
       "      <th></th>\n",
       "      <th>price</th>\n",
       "    </tr>\n",
       "    <tr>\n",
       "      <th>neighbourhood</th>\n",
       "      <th></th>\n",
       "    </tr>\n",
       "  </thead>\n",
       "  <tbody>\n",
       "    <tr>\n",
       "      <th>Brooklyn Heights</th>\n",
       "      <td>410.000</td>\n",
       "    </tr>\n",
       "    <tr>\n",
       "      <th>Civic Center</th>\n",
       "      <td>328.000</td>\n",
       "    </tr>\n",
       "    <tr>\n",
       "      <th>Tribeca</th>\n",
       "      <td>325.000</td>\n",
       "    </tr>\n",
       "    <tr>\n",
       "      <th>DUMBO</th>\n",
       "      <td>300.000</td>\n",
       "    </tr>\n",
       "    <tr>\n",
       "      <th>Nolita</th>\n",
       "      <td>281.125</td>\n",
       "    </tr>\n",
       "  </tbody>\n",
       "</table>\n",
       "</div>"
      ],
      "text/plain": [
       "                    price\n",
       "neighbourhood            \n",
       "Brooklyn Heights  410.000\n",
       "Civic Center      328.000\n",
       "Tribeca           325.000\n",
       "DUMBO             300.000\n",
       "Nolita            281.125"
      ]
     },
     "execution_count": 15,
     "metadata": {},
     "output_type": "execute_result"
    }
   ],
   "source": [
    "max_price_by_neighborhood = cleaned_airbnb.pivot_table(index=\"neighbourhood\", values=\"price\")\n",
    "max_price_by_neighborhood_desc = max_price_by_neighborhood.sort_values(by=\"price\", ascending=False) # sort by highest -> lowest avg price\n",
    "max_price_by_neighborhood_desc.head(5)"
   ]
  },
  {
   "cell_type": "code",
   "execution_count": null,
   "id": "3e112fe6-f5b8-43a7-802f-f951f60d450c",
   "metadata": {},
   "outputs": [],
   "source": [
    "Neighborhood = [\"Brooklyn Heights\", \"Civic Center\", \"Tribeca\", \"DUMBO\", \"Nolita\"]\n",
    "Avg_Price = [410, 328, 325, 300, 281]\n",
    "\n",
    "\n",
    "plt.figure(figsize=(5,3))\n",
    "\n",
    "plt.bar(Borough, Price, color=[\"#DF8B41\",\"#387E74\", \"#387E74\",\"#387E74\",\"#9977D3\"], edgecolor=\"black\")\n",
    "\n",
    "plt.xlabel(\"Borough\")\n",
    "plt.ylabel(\"Average Room Price\")\n",
    "plt.title(\"Average Room Price by Borough\")"
   ]
  },
  {
   "cell_type": "code",
   "execution_count": 9,
   "id": "b4dd2f67-8b7b-41c1-8a6e-af0d3bc20cc6",
   "metadata": {},
   "outputs": [
    {
     "data": {
      "text/plain": [
       "price    410.0\n",
       "dtype: float64"
      ]
     },
     "execution_count": 9,
     "metadata": {},
     "output_type": "execute_result"
    }
   ],
   "source": [
    "# gives max value w/o row!\n",
    "\n",
    "# max_price_by_neighborhood_1 = cleaned_airbnb.pivot_table(index=\"neighbourhood\", values=\"price\").max()\n",
    "# max_price_by_neighborhood_1"
   ]
  },
  {
   "cell_type": "markdown",
   "id": "96b5e810-e88d-4d14-b2cb-f21b1312b44c",
   "metadata": {},
   "source": [
    "#### What did we find?"
   ]
  },
  {
   "cell_type": "raw",
   "id": "f1e6f633-578f-4b70-ab18-f63fa8b2ba30",
   "metadata": {},
   "source": [
    "- Brooklyn Heights is the neighborhood with the most expensive rentals at $410!\n",
    "- Civic Center ($328), Tribeca ($325), and DUMBO ($300) are the next most expensive rentals in the ~$300 range.\n",
    "- Not surprising that the top five most expensive rentals at neighborhoods located in Brooklyn and Manhattan."
   ]
  },
  {
   "cell_type": "markdown",
   "id": "ad18bea3-d305-4f59-a3e9-5f5dc506cdb0",
   "metadata": {},
   "source": [
    "#### 3. What type of room costs the most? The least?"
   ]
  },
  {
   "cell_type": "code",
   "execution_count": 37,
   "id": "17103884-743c-4771-bfc0-bfb768255d34",
   "metadata": {},
   "outputs": [
    {
     "data": {
      "text/plain": [
       "room_type\n",
       "Entire home/apt    2000\n",
       "Private room       3000\n",
       "Shared room         115\n",
       "Name: price, dtype: int64"
      ]
     },
     "execution_count": 37,
     "metadata": {},
     "output_type": "execute_result"
    }
   ],
   "source": [
    "# \"room_type\"\n",
    "# \"price\"\n",
    "\n",
    "room_type_price_max = cleaned_airbnb.groupby([\"room_type\"])[\"price\"].max()\n",
    "room_type_price_max"
   ]
  },
  {
   "cell_type": "markdown",
   "id": "820fe9ab-8f91-4801-9b0c-4f53208cdccc",
   "metadata": {},
   "source": [
    "#### What did we find?"
   ]
  },
  {
   "cell_type": "raw",
   "id": "ab228039-397b-4853-a9a9-8bcad79d5315",
   "metadata": {},
   "source": [
    "Using MAX price for each room type:\n",
    "1. Private room costs the most at $3000 \n",
    "2. Entire home/apt is second at $2000 \n",
    "3. Shared room costs the least at $115"
   ]
  },
  {
   "cell_type": "code",
   "execution_count": 41,
   "id": "c77af37e-ed14-4cb5-9e85-71b154a133e9",
   "metadata": {},
   "outputs": [
    {
     "data": {
      "text/plain": [
       "room_type\n",
       "Entire home/apt    50\n",
       "Private room       20\n",
       "Shared room        39\n",
       "Name: price, dtype: int64"
      ]
     },
     "execution_count": 41,
     "metadata": {},
     "output_type": "execute_result"
    }
   ],
   "source": [
    "# \"room_type\"\n",
    "# \"price\"\n",
    "\n",
    "room_type_price_min = cleaned_airbnb.groupby([\"room_type\"])[\"price\"].min()\n",
    "room_type_price_min"
   ]
  },
  {
   "cell_type": "markdown",
   "id": "3f2d287a-a891-4e38-a1ad-aeae32bbd1e3",
   "metadata": {},
   "source": [
    "#### What did we find?"
   ]
  },
  {
   "cell_type": "raw",
   "id": "428f17f6-c2ef-4178-b4f7-4b612ffd02ac",
   "metadata": {},
   "source": [
    "Using MIN price for each room type:\n",
    "1. Entire home/apt costs the most at $50\n",
    "2. Private room is second at $20\n",
    "3. Shared room costs the least at $39"
   ]
  },
  {
   "cell_type": "code",
   "execution_count": 77,
   "id": "5aaaa618-15c9-4a57-a6fc-d9a5a85f4be9",
   "metadata": {},
   "outputs": [],
   "source": [
    "#rooms = [\"Private Room\", \"Entire Home/Apt\", \"Shared Room\"]\n",
    "#max = [3000, 2000, 115]\n",
    "#min = [20, 50, 39]\n",
    "\n",
    "#plt.figure(figsize=(5,3))\n",
    "\n",
    "#plt.bar(x=\"rooms\", y=[\"max\",\"min\"]) #nope - gotta come back to this\n",
    "#plt.show()"
   ]
  },
  {
   "cell_type": "code",
   "execution_count": 44,
   "id": "6f24b28c-6a23-42a1-b866-41414d1efac2",
   "metadata": {},
   "outputs": [
    {
     "data": {
      "text/plain": [
       "room_type\n",
       "Entire home/apt    196.53\n",
       "Private room       105.38\n",
       "Shared room         66.44\n",
       "Name: price, dtype: float64"
      ]
     },
     "execution_count": 44,
     "metadata": {},
     "output_type": "execute_result"
    }
   ],
   "source": [
    "# \"room_type\"\n",
    "# \"price\n",
    "\n",
    "room_type_price_avg = cleaned_airbnb.groupby([\"room_type\"])[\"price\"].mean().round(2)\n",
    "room_type_price_avg"
   ]
  },
  {
   "cell_type": "markdown",
   "id": "0f22c07c-d900-46af-aaa3-0e1dbbb4a3e8",
   "metadata": {},
   "source": [
    "#### What did we find?"
   ]
  },
  {
   "cell_type": "raw",
   "id": "6b9692c7-818a-4c8a-b4a0-c2d93f674eda",
   "metadata": {},
   "source": [
    "Using AVG price for each room type:\n",
    "1. Entire home/apt costs the most at ~$197\n",
    "2. Private room is second at ~$105\n",
    "3. Shared room costs the least at ~$66"
   ]
  },
  {
   "cell_type": "markdown",
   "id": "025ddb7b-7920-4a72-abcd-76ffc86f12f5",
   "metadata": {},
   "source": [
    "#### Overall finding?"
   ]
  },
  {
   "cell_type": "raw",
   "id": "bbc8be2c-4fa3-4502-9131-52825e6a2d41",
   "metadata": {},
   "source": [
    "Based on the MAX, MIN, and AVG price for each room type:\n",
    "- Shared room costs the LEAST\n",
    "- Private home costs the most for MAX\n",
    "- Entire home/apt costs the most for MIN & AVG\n",
    "\n",
    "Using AVG price as the determinator:\n",
    "- Entire home/apt costs the MOST at ~$197\n",
    "- Shared room costs the LEAST at ~$66\n",
    "- Average price for entire home/apt is almost 3x more expensive than that of shared room"
   ]
  },
  {
   "cell_type": "markdown",
   "id": "14d0ee85-efcd-448f-8724-67fe6bc0a860",
   "metadata": {},
   "source": [
    "#### 4. Are higher ratings correlated with higher prices?"
   ]
  },
  {
   "cell_type": "code",
   "execution_count": 52,
   "id": "67f8eea1-af66-433a-a4cd-389c5b42fba2",
   "metadata": {},
   "outputs": [
    {
     "data": {
      "text/plain": [
       "rating\n",
       "0.000107     68.0\n",
       "0.000281     89.0\n",
       "0.000746     88.0\n",
       "0.001889    150.0\n",
       "0.002413     75.0\n",
       "            ...  \n",
       "0.995634     85.0\n",
       "0.996396    115.0\n",
       "0.997041    450.0\n",
       "0.997701    100.0\n",
       "0.997866     80.0\n",
       "Name: price, Length: 1208, dtype: float64"
      ]
     },
     "execution_count": 52,
     "metadata": {},
     "output_type": "execute_result"
    }
   ],
   "source": [
    "# \"rating\"\n",
    "# \"price\"\n",
    "\n",
    "#rating_desc = cleaned_airbnb.sort_values(by=\"rating\", ascending=False)\n",
    "#rating_desc\n",
    "\n",
    "#high_rating_high_price = rating_desc.groupby([\"rating\"])[\"price\"].mean()\n",
    "#high_rating_high_price"
   ]
  },
  {
   "cell_type": "code",
   "execution_count": 59,
   "id": "28eb27df-d998-4e07-8d85-4057c55f701e",
   "metadata": {},
   "outputs": [
    {
     "data": {
      "text/plain": [
       "Text(0.5, 1.0, 'Airbnb: Rating vs. Price')"
      ]
     },
     "execution_count": 59,
     "metadata": {},
     "output_type": "execute_result"
    },
    {
     "data": {
      "image/png": "[encoded data removed]",
      "text/plain": [
       "<Figure size 1500x500 with 1 Axes>"
      ]
     },
     "metadata": {},
     "output_type": "display_data"
    }
   ],
   "source": [
    "plt.figure(figsize=(15,5))\n",
    "\n",
    "plt.scatter(cleaned_airbnb['rating'], cleaned_airbnb['price'], marker=\"+\", color=\"#4864B1\")\n",
    "\n",
    "plt.xlabel('Rating')\n",
    "plt.ylabel('Price')\n",
    "plt.title('Airbnb: Rating vs. Price')"
   ]
  },
  {
   "cell_type": "markdown",
   "id": "6a0d270f-a9c7-4c22-a6c7-dc8d1dda402d",
   "metadata": {
    "tags": []
   },
   "source": [
    "#### 5. Are hosts with more rentals more likely to receive higher ratings?"
   ]
  },
  {
   "cell_type": "code",
   "execution_count": null,
   "id": "ec0fbd21-098c-4b38-8512-5e8d1d35fe6f",
   "metadata": {},
   "outputs": [],
   "source": []
  },
  {
   "cell_type": "markdown",
   "id": "73227ea5-aaed-4842-a732-5de13eebc469",
   "metadata": {
    "tags": []
   },
   "source": [
    "#### 6. What's the \"best\" rental in NYC, considering location, price, and rating? (This is a subjective judgment, but make sure you justify your choice.)"
   ]
  },
  {
   "cell_type": "code",
   "execution_count": null,
   "id": "50e71044-2d21-4128-8506-dd8835ee1408",
   "metadata": {},
   "outputs": [],
   "source": []
  },
  {
   "cell_type": "markdown",
   "id": "19765501-517f-4676-9ddb-d28b51443d38",
   "metadata": {},
   "source": [
    "### Feedback/Learning from Instructors & Classmates\n",
    "- Clean the data as you go\n",
    "- Stylistic cohesion: have a theme for the colors instead of going wild\n",
    "- Shoulda used .describe()!!!\n",
    "- How to create plots from pivot tables\n",
    "- df.corr() - correlation matrix! more next week\n",
    "- Reset index!!! visualizing pivot tables - more next week :')\n",
    "- Don't put things in charts that don't clarify - it's all about CLARITY!\n",
    "\n",
    "# <center> BE KIND... BECAUSE EVERYONE IS GOING THROUGH SOMETHING YOU HAVE NO IDEA ABOUT!"
   ]
  }
 ],
 "metadata": {
  "kernelspec": {
   "display_name": "Python 3 (ipykernel)",
   "language": "python",
   "name": "python3"
  },
  "language_info": {
   "codemirror_mode": {
    "name": "ipython",
    "version": 3
   },
   "file_extension": ".py",
   "mimetype": "text/x-python",
   "name": "python",
   "nbconvert_exporter": "python",
   "pygments_lexer": "ipython3",
   "version": "3.10.9"
  }
 },
 "nbformat": 4,
 "nbformat_minor": 5
}
