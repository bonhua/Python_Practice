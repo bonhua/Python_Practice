{
 "cells": [
  {
   "cell_type": "markdown",
   "id": "d96eae7f-7477-4cbf-b66a-b4f239532215",
   "metadata": {},
   "source": [
    "# 03 Functions, Classes, & Objects"
   ]
  },
  {
   "cell_type": "markdown",
   "id": "0e5e4163-02b1-45fd-9c89-ba23f9f7856b",
   "metadata": {},
   "source": [
    "## Named Functions\n",
    "1. Create a function that takes the height of a building (in feet) and returns how many stories (floors).  The math is stories=height//10.\n",
    "2. Use the function to calculate how many stories are in a 259 foot building."
   ]
  },
  {
   "cell_type": "code",
   "execution_count": 1,
   "id": "d64d2fd3-0c2d-402e-97ad-e6aa76250649",
   "metadata": {},
   "outputs": [
    {
     "name": "stdout",
     "output_type": "stream",
     "text": [
      "A building with a height of 259 feet has 25 stories.\n"
     ]
    }
   ],
   "source": [
    "def building_stories(height):\n",
    "    stories = height//10\n",
    "    return stories\n",
    "\n",
    "height = 259\n",
    "print(\"A building with a height of\", height, \"feet has\", building_stories(height), \"stories.\")"
   ]
  },
  {
   "cell_type": "markdown",
   "id": "6b978cee-d8d2-42c8-a289-5b2a8c7c8fce",
   "metadata": {},
   "source": [
    "## Anonymous Functions\n",
    "3. Create a lambda function that takes one parameter (a) and returns `a*a*a`.\n",
    "4. Create a list of numbers called 'numbers', then use the map function with your lambda function to create a new list called 'cubes'."
   ]
  },
  {
   "cell_type": "code",
   "execution_count": 2,
   "id": "70a9cd80-3521-4aac-bb6b-26f9b9161ed1",
   "metadata": {},
   "outputs": [
    {
     "name": "stdout",
     "output_type": "stream",
     "text": [
      "The cubes of [1, 2, 3, 4, 5] are [1, 8, 27, 64, 125]\n"
     ]
    }
   ],
   "source": [
    "lambda a: a*a*a\n",
    "numbers = [1, 2, 3, 4, 5]\n",
    "cubes = list(map(lambda a: a*a*a, numbers))\n",
    "print(\"The cubes of\", numbers, \"are\", cubes)"
   ]
  },
  {
   "cell_type": "markdown",
   "id": "388da6e1-e417-4b3c-b341-8fc81933e79c",
   "metadata": {},
   "source": [
    "## Classes & Objects\n",
    "5. Create a class called house and give it an attribute num_bedrooms.\n",
    "    - Give the class a method called how_many_bedrooms().\n",
    "    - Create an instantiation (object) of house called my_house with 2 bedrooms.\n",
    "    - Ask the my_house object how many bedrooms it has.\n",
    "6. Create another instantiation of house called white_house with 16 bedrooms."
   ]
  },
  {
   "cell_type": "code",
   "execution_count": 3,
   "id": "92a2bfc6-8982-4c43-ae7b-9b3200a32ceb",
   "metadata": {},
   "outputs": [
    {
     "name": "stdout",
     "output_type": "stream",
     "text": [
      "My house has 2 bedrooms. Nice and quaint!\n",
      "The white house has 16 bedrooms. Oh, how spacious!\n"
     ]
    }
   ],
   "source": [
    "class house:\n",
    "    def __init__(self, num_bedrooms):\n",
    "        self.num_bedrooms = num_bedrooms\n",
    "        \n",
    "    def how_many_bedrooms(self):\n",
    "        return self.num_bedrooms\n",
    "\n",
    "my_house = house(2)\n",
    "print(\"My house has\", my_house.how_many_bedrooms(), \"bedrooms. Nice and quaint!\")\n",
    "\n",
    "white_house = house(16)\n",
    "print(\"The white house has\", white_house.how_many_bedrooms(), \"bedrooms. Oh, how spacious!\")"
   ]
  }
 ],
 "metadata": {
  "kernelspec": {
   "display_name": "Python 3 (ipykernel)",
   "language": "python",
   "name": "python3"
  },
  "language_info": {
   "codemirror_mode": {
    "name": "ipython",
    "version": 3
   },
   "file_extension": ".py",
   "mimetype": "text/x-python",
   "name": "python",
   "nbconvert_exporter": "python",
   "pygments_lexer": "ipython3",
   "version": "3.10.9"
  }
 },
 "nbformat": 4,
 "nbformat_minor": 5
}
