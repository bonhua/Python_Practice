{
 "cells": [
  {
   "cell_type": "markdown",
   "id": "cedb8829-6881-47e6-a5a4-c232c1e7f505",
   "metadata": {},
   "source": [
    "# <center> Python and the Holy Grail"
   ]
  },
  {
   "cell_type": "markdown",
   "id": "9428df98-c163-4e5e-be61-9d0da4309953",
   "metadata": {},
   "source": [
    "The first gatekeeper you encounter is Gimli the Frugal.  He has just returned from the store where he purchased 12 items.   There was supposed to be a 15% discount, but Gimli worries that he spent too much.  \n",
    "<br>\n",
    "The items he purchased cost: \n",
    "[32, 52, 16, 26, 61, 19, 33, 53, 23, 6, 68, 82]\n",
    "<br><br>\n",
    "With his 15% discount, what total should he have paid for all the items?"
   ]
  },
  {
   "cell_type": "code",
   "execution_count": null,
   "id": "2cda3b7f-4d7f-4905-a699-f1fe5a41da0d",
   "metadata": {},
   "outputs": [],
   "source": [
    "# bruh i thought too hard about this\n",
    "gimli_total_cost = [32, 52, 16, 26, 61, 19, 33, 53, 23, 6, 68, 82]\n",
    "\n",
    "# dir(gimli_total_cost)\n",
    "\n",
    "for item in gimli_total_cost:\n",
    "    total = item*0.85\n",
    "    print(total)\n",
    "    \n",
    "27.2 + 44.2 + 22.1 + 51.85 + 16.15 + 28.05 + 45.05 + 19.55 + 5.1 + 57.8 + 69.7"
   ]
  },
  {
   "cell_type": "code",
   "execution_count": 7,
   "id": "9c07a3e0-1ec4-4fb8-bdd1-d5fc9e53b3cd",
   "metadata": {},
   "outputs": [
    {
     "data": {
      "text/plain": [
       "400.34999999999997"
      ]
     },
     "execution_count": 7,
     "metadata": {},
     "output_type": "execute_result"
    }
   ],
   "source": [
    "# solution\n",
    "gimli_total_cost = [32, 52, 16, 26, 61, 19, 33, 53, 23, 6, 68, 82]\n",
    "\n",
    "sum(gimli_total_cost) * 0.85"
   ]
  },
  {
   "cell_type": "code",
   "execution_count": 9,
   "id": "b018ffa4-7298-443f-a34b-ac48322158ab",
   "metadata": {},
   "outputs": [
    {
     "name": "stdout",
     "output_type": "stream",
     "text": [
      "400.34999999999997\n"
     ]
    }
   ],
   "source": [
    "# solution\n",
    "gimli_list = [32, 52, 16, 26, 61, 19, 33, 53, 23, 6, 68, 82]\n",
    "\n",
    "gimli_total_cost = sum(gimli_list) * 0.85\n",
    "print(gimli_total_cost)"
   ]
  },
  {
   "cell_type": "code",
   "execution_count": null,
   "id": "32484f85-5b31-4208-ac48-0466fc34faae",
   "metadata": {},
   "outputs": [],
   "source": [
    "# andy solution\n",
    "list1 = [32, 52, 16, 26, 61, 19, 33, 53, 23, 6, 68, 82]\n",
    "discount = sum(map(lambda x: x * 0.85, list1))\n",
    "print(discount)"
   ]
  },
  {
   "cell_type": "code",
   "execution_count": 13,
   "id": "1e947999-1754-4f68-a18d-2de595bcfdc9",
   "metadata": {},
   "outputs": [
    {
     "name": "stdout",
     "output_type": "stream",
     "text": [
      "[27.2, 44.199999999999996, 13.6, 22.099999999999998, 51.85, 16.15, 28.05, 45.05, 19.55, 5.1, 57.8, 69.7]\n",
      "Grimli should have paid: $400.35\n"
     ]
    }
   ],
   "source": [
    "# val solution\n",
    "item_cost = [32, 52, 16, 26, 61, 19, 33, 53, 23, 6, 68, 82]\n",
    "item_discounts = list(map(lambda x: x * 0.85, item_cost))\n",
    "\n",
    "print(item_discounts)\n",
    "\n",
    "total_cost = 0\n",
    "\n",
    "for cost in item_dicounts:\n",
    "    total_cost = total_cost + cost\n",
    "\n",
    "print(f\"Grimli should have paid: ${total_cost}\")"
   ]
  },
  {
   "cell_type": "markdown",
   "id": "4916580e-18f8-4345-8a66-dc2d299a4ecd",
   "metadata": {},
   "source": [
    "You next encounter a troll who asks you to help him answer a riddle before you can continue to a bridge.   He says that every visitor answers three questions before they cross the bridge, and their answers are stored in a Python dictionary.  \n",
    "<br>\n",
    "visitor_info = {\n",
    "\n",
    "    \"name\": \"Sir Lancelot\",\n",
    "    \"quest\": \"To seek the Holy Grail\",\n",
    "    \"favorite_color\": \"Blue\"\n",
    "}\n",
    "<br>\n",
    "The troll doesn't know how to retrieve information from the dictionary.  Can you help him find Sir Lancelot's favorite color?  "
   ]
  },
  {
   "cell_type": "code",
   "execution_count": null,
   "id": "a05d320e-8504-4510-b6f6-e78e2baf53c9",
   "metadata": {},
   "outputs": [],
   "source": [
    "# solution\n",
    "visitor_info = {\n",
    "\n",
    "    \"name\": \"Sir Lancelot\",\n",
    "    \"quest\": \"To seek the Holy Grail\",\n",
    "    \"favorite_color\": \"Blue\"\n",
    "}\n",
    "\n",
    "print(visitor_info['favorite_color'])"
   ]
  },
  {
   "cell_type": "markdown",
   "id": "8d33d479-8c88-4698-8d18-e73dfa8f5fd2",
   "metadata": {},
   "source": [
    "At the bridge you are approached by an elderly man scribbling numbers on a pad of paper.   He asks if you can help him.   \"I have 11 carriages that must cross a bridge.  The carriages weigh 825 pounds each.  The bridge can only hold 3000 pounds.  How many carriages can cross the bridge at one time?\" "
   ]
  },
  {
   "cell_type": "code",
   "execution_count": 17,
   "id": "745ae8b9-71d6-4839-95e3-d05d91424c1c",
   "metadata": {},
   "outputs": [
    {
     "name": "stdout",
     "output_type": "stream",
     "text": [
      "3\n"
     ]
    }
   ],
   "source": [
    "# solution\n",
    "num_carriages = 11\n",
    "weight_per_carriage = 825\n",
    "bridge_limit = 3000\n",
    "\n",
    "total_weight = num_carriages * weight_per_carriage\n",
    "# print(total_weight)\n",
    "\n",
    "carriage_limit = total_weight // bridge_limit\n",
    "print(carriage_limit)"
   ]
  },
  {
   "cell_type": "markdown",
   "id": "ec0fc925-a006-4883-af1c-943b2d082e00",
   "metadata": {},
   "source": [
    "If it takes a carriage 5 minutes to cross, how long will it take 11 carriages to cross the bridge?\"  "
   ]
  },
  {
   "cell_type": "code",
   "execution_count": null,
   "id": "10d2303b-c209-433f-8b21-f6229eeec350",
   "metadata": {},
   "outputs": [],
   "source": [
    "# not as straightforward as you woulda thunk\n",
    "time_per_carriage = 5\n",
    "\n",
    "total_time = num_carriages * time_per_carriage\n",
    "print(total_time)"
   ]
  },
  {
   "cell_type": "code",
   "execution_count": null,
   "id": "de9125ee-0378-4a64-af28-fe61ca6b26a8",
   "metadata": {},
   "outputs": [],
   "source": [
    "# solution\n",
    "# answer is 20 b/c\n",
    "time_per_carriage = 5\n",
    "num_carriages = 11\n",
    "carriage_limit = 3\n",
    "\n",
    "total_crossings = (num_carriages // carriage_limit) + 1 # added one in lieu of ceiling division\n",
    "print(total_crossings)\n",
    "\n",
    "# total_crossings2 = round(num_carriages / carriage_limit) # this could also work\n",
    "# print(total_crossings2)\n",
    "\n",
    "total_time = time_per_carriage * total_crossings\n",
    "print(total_time)"
   ]
  },
  {
   "cell_type": "markdown",
   "id": "d9707a2e-e358-4ffb-9e2d-ac4bc7f0fe57",
   "metadata": {},
   "source": [
    "An old man stands before a heavy door holding in one hand two keys, one gold and one silver. The door has two locks and the man mutters as if with two voices at once with every **odd word** sounding in one voice and every **even word** sounding in another:\n",
    "\n",
    "\"The to memory obtain and something the something senses of are equal but value the must nourishment be of given creation\"\n",
    "\n",
    "You quickly understand that you will have to disentangle his words and provide to him two passwords to pass on ahead.\n",
    "\n",
    "What is the first passphrase?\n",
    "\n",
    "What is the second passphrase? "
   ]
  },
  {
   "cell_type": "code",
   "execution_count": 22,
   "id": "a5a94aff-694f-4caf-8d22-420df5f696d6",
   "metadata": {},
   "outputs": [
    {
     "name": "stdout",
     "output_type": "stream",
     "text": [
      "21\n",
      "['The', 'memory', 'and', 'the', 'senses', 'are', 'but', 'the', 'nourishment', 'of', 'creation']\n",
      "['to', 'obtain', 'something', 'something', 'of', 'equal', 'value', 'must', 'be', 'given']\n"
     ]
    }
   ],
   "source": [
    "# solution\n",
    "wise_words = [\"The\", \"to\", \"memory\", \"obtain\", \"and\", \"something\", \"the\", \"something\", \"senses\", \"of\", \"are\", \"equal\", \"but\", \"value\", \"the\", \"must\", \"nourishment\", \"be\", \"of\", \"given\", \"creation\"]\n",
    "# wise_words = (\"The to memory obtain and something the something senses of are equal but value the must nourishment be of given creation\")\n",
    "# split_wise_words.split(\" \")\n",
    "# check screenshot for Firoz code using .join()!!!\n",
    "\n",
    "print(len(wise_words))\n",
    "\n",
    "odd = wise_words[0:21:2] #[0::2] \"::\" goes to the end & does not require knowing length\n",
    "even = wise_words[1:21:2] #[1::2]\n",
    "\n",
    "print(odd)\n",
    "print(even)"
   ]
  },
  {
   "cell_type": "markdown",
   "id": "589f26f6-01e1-460a-bf08-410e58c5d75d",
   "metadata": {},
   "source": [
    "In the castle you find the queen fussing with a large, iron safe.   You tell her that you seek the Grail.   She says she'd happily give it to you, but it's in the safe and she's forgotten the combination.    \n",
    "\n",
    "\"I remember that there were 3 digits in the combination.  The sum of the digits is 7 and the product of all the digits is 8.   Also,  the second digit is larger than the first, and the third digit is larger than the second. \n",
    "\n",
    "You realize that you can use a loop to try out all of the combinations. "
   ]
  },
  {
   "cell_type": "raw",
   "id": "fccdd86c-6708-4ad9-ab0c-3539df0dfa93",
   "metadata": {},
   "source": [
    "x y z\n",
    "x + y + z = 7\n",
    "x * y * z = 8\n",
    "y > x\n",
    "z > y\n",
    "x < y < z"
   ]
  },
  {
   "cell_type": "code",
   "execution_count": 6,
   "id": "def8c3b4-fb1b-4363-b534-534b9beba57b",
   "metadata": {},
   "outputs": [
    {
     "ename": "TypeError",
     "evalue": "unsupported operand type(s) for +: 'type' and 'type'",
     "output_type": "error",
     "traceback": [
      "\u001b[1;31m---------------------------------------------------------------------------\u001b[0m",
      "\u001b[1;31mTypeError\u001b[0m                                 Traceback (most recent call last)",
      "Cell \u001b[1;32mIn[6], line 5\u001b[0m\n\u001b[0;32m      2\u001b[0m y \u001b[38;5;241m=\u001b[39m \u001b[38;5;28mint\u001b[39m\n\u001b[0;32m      3\u001b[0m z \u001b[38;5;241m=\u001b[39m \u001b[38;5;28mint\u001b[39m\n\u001b[1;32m----> 5\u001b[0m \u001b[38;5;28;01mwhile\u001b[39;00m \u001b[43mx\u001b[49m\u001b[43m \u001b[49m\u001b[38;5;241;43m+\u001b[39;49m\u001b[43m \u001b[49m\u001b[43my\u001b[49m \u001b[38;5;241m+\u001b[39m z \u001b[38;5;241m==\u001b[39m \u001b[38;5;241m7\u001b[39m:\n\u001b[0;32m      6\u001b[0m     \u001b[38;5;28mprint\u001b[39m(x, y, z)\n",
      "\u001b[1;31mTypeError\u001b[0m: unsupported operand type(s) for +: 'type' and 'type'"
     ]
    }
   ],
   "source": [
    "x = int\n",
    "y = int\n",
    "z = int\n",
    "\n",
    "while x + y + z == 7:\n",
    "    print(x, y, z)"
   ]
  },
  {
   "cell_type": "code",
   "execution_count": null,
   "id": "3c0f17b3-e038-4ed8-9373-ec70023926c6",
   "metadata": {},
   "outputs": [],
   "source": [
    "list_x = [1, 2, 3, 4, 5]\n",
    "list_y = [1, 2, 3, 4, 5]\n",
    "list_z = [1, 2, 3, 4, 5]\n",
    "\n",
    "for x in list_x:\n",
    "    for y in list_y:\n",
    "        for z in list_z:\n",
    "            while x + y + z == 7:\n",
    "                if x * y * z == 8:\n",
    "                    print(x, y, z)"
   ]
  },
  {
   "cell_type": "code",
   "execution_count": null,
   "id": "3cae4c4a-4596-4237-b929-a204db3d1715",
   "metadata": {},
   "outputs": [],
   "source": [
    "list_x = [1, 2, 3, 4, 5]\n",
    "list_y = [1, 2, 3, 4, 5]\n",
    "list_z = [1, 2, 3, 4, 5]\n",
    "\n",
    "while "
   ]
  },
  {
   "cell_type": "code",
   "execution_count": null,
   "id": "902c352a-fc28-448f-8056-0c776922f139",
   "metadata": {},
   "outputs": [],
   "source": [
    "def getSum(n):\n",
    "    sum = 0\n",
    "    for digit in str(n):\n",
    "        sum += int(digit)\n",
    "    return sum\n",
    "\n",
    "n = 142\n",
    "print(getSum(n))"
   ]
  },
  {
   "cell_type": "code",
   "execution_count": null,
   "id": "727db753-37e3-4a7d-8b1b-a21217e3677e",
   "metadata": {},
   "outputs": [],
   "source": [
    "def getSum(n):\n",
    "    sum = 7\n",
    "    for digit in str(n):\n",
    "        sum += int(digit)\n",
    "    return sum\n",
    "\n",
    "# n = 142\n",
    "print(getSum(n))"
   ]
  },
  {
   "cell_type": "markdown",
   "id": "679d5866-a6f6-4b5c-92a8-579c35dc6fd3",
   "metadata": {},
   "source": [
    "`.join()*`"
   ]
  },
  {
   "cell_type": "code",
   "execution_count": null,
   "id": "964eb3b0-273d-4fc8-808e-16caa8bc0899",
   "metadata": {},
   "outputs": [],
   "source": [
    "# VAL SOLUTION\n",
    "possible_x = [0, 1, 2, 3, 4, 5, 6, 7]\n",
    "possible_y = [0, 1, 2, 3, 4, 5, 6, 7]\n",
    "possible_z = [0, 1, 2, 3, 4, 5, 6, 7]\n",
    "\n",
    "\n",
    "def possible_combination(x, y, z):\n",
    "    if (x + y + z == 7) and (x * y * z == 8) and (y > x) and (z > y):\n",
    "        return True\n",
    "    else:\n",
    "        return False\n",
    "    \n",
    "print(possible_combination(4, 5, 6))   # returns False\n",
    "print(possible_combination(1, 2, 4))   # returns True\n",
    "    \n",
    "    \n",
    "    \n",
    "combinations_list = []    \n",
    "    \n",
    "for x in possible_x:\n",
    "    \n",
    "    for y in possible_y:\n",
    "        \n",
    "        for z in possible_z:\n",
    "            \n",
    "            if possible_combination(x, y, z):\n",
    "                combinations_list.append([x, y, z])\n",
    "       \n",
    "    \n",
    "print(combinations_list)"
   ]
  },
  {
   "cell_type": "code",
   "execution_count": null,
   "id": "002d8c62-e5b9-4f83-9790-86186625ea02",
   "metadata": {},
   "outputs": [],
   "source": [
    "# need David's solution!"
   ]
  },
  {
   "cell_type": "code",
   "execution_count": null,
   "id": "21b99277-f890-4ebf-a431-71087f50ddd0",
   "metadata": {},
   "outputs": [],
   "source": [
    "# andy solution\n",
    "combinations = []   #empty list, need 3 numbers from 1-7 to loop thru, then add a condition, and then add the numbers in the empty list.\n",
    "for i in range(1,8):\n",
    "    for i2 in range(1,8):\n",
    "        for i3 in range(1,8):\n",
    "            if i + i2 + i3 == 7 and i * i2 * i3 == 8 and i < i2 < i3:\n",
    "                combinations.append((i,i2,i3))\n",
    "print(combinations)"
   ]
  },
  {
   "cell_type": "code",
   "execution_count": null,
   "id": "e28f8a91-a95c-4ec6-80d2-bffb6fa9e39d",
   "metadata": {},
   "outputs": [],
   "source": []
  },
  {
   "cell_type": "code",
   "execution_count": null,
   "id": "6a4f1c3e-ee63-4d6f-82ef-848361cd9dcf",
   "metadata": {},
   "outputs": [],
   "source": []
  }
 ],
 "metadata": {
  "kernelspec": {
   "display_name": "Python 3 (ipykernel)",
   "language": "python",
   "name": "python3"
  },
  "language_info": {
   "codemirror_mode": {
    "name": "ipython",
    "version": 3
   },
   "file_extension": ".py",
   "mimetype": "text/x-python",
   "name": "python",
   "nbconvert_exporter": "python",
   "pygments_lexer": "ipython3",
   "version": "3.10.9"
  }
 },
 "nbformat": 4,
 "nbformat_minor": 5
}
