{
 "cells": [
  {
   "cell_type": "markdown",
   "id": "c9dc0d39-eeb5-405f-8fbe-fe930039982b",
   "metadata": {},
   "source": [
    "# <center> 08 Advanced Pandas & DataFrames"
   ]
  },
  {
   "cell_type": "markdown",
   "id": "f721dd49-9622-4259-bf5f-f36b062dcc00",
   "metadata": {},
   "source": [
    "## Module Notes"
   ]
  },
  {
   "cell_type": "markdown",
   "id": "9ed4432c-f1a4-4e44-bafb-fc12fbcf19f7",
   "metadata": {},
   "source": [
    "`df.isna()` identifies NaN (\"not a number\") values & returns True (if NaN) or False\n",
    "\n",
    "`df.fillna(0)` replaces NaN with zero\n",
    "\n",
    "`cleaned_df = df.dropna()` removes all rows w/ NaN values and renames new df as 'cleaned_df'\n",
    "\n",
    "`df.duplicated()` returns which rows are duplicates with True (if duplicate) or False\n",
    "\n",
    "`df.drop_duplicates()` removes duplicate rows"
   ]
  },
  {
   "cell_type": "markdown",
   "id": "065c21df-6324-4a32-84f2-6fe6f89736b8",
   "metadata": {},
   "source": [
    "`str.lower()` changes all characters in string to lowercase\n",
    "\n",
    "`str.upper()` changes all characters in string to uppercase\n",
    "\n",
    "`str.title()` changes first letter to uppercase and rest of letters to lowercase"
   ]
  },
  {
   "cell_type": "markdown",
   "id": "a6095b74-d81f-42be-b230-c395fe95c105",
   "metadata": {},
   "source": [
    "`.map()` method used to create new column based on values in existing columns"
   ]
  },
  {
   "cell_type": "markdown",
   "id": "753d1007-4a1f-46f7-9ab0-50d1f24f9177",
   "metadata": {},
   "source": [
    "`.join()` joins the left df w/ right df\n",
    "\n",
    "left (outer) join: \n",
    "\n",
    "`joined_df = order_df.join(product_df.set_index(\"product_id\"), on = \"product_id\")`\n",
    "\n",
    "right join: \n",
    "\n",
    "`joined_df = order_df.join(product_df.set_index(\"product_id\"), on = \"product_id\", how = \"right\")`"
   ]
  },
  {
   "cell_type": "markdown",
   "id": "5e548b4b-c34e-486b-81b5-ebd1977889bb",
   "metadata": {},
   "source": [
    "## Class Notes"
   ]
  },
  {
   "cell_type": "markdown",
   "id": "a686c80e-67b1-49ed-932d-2faada04a326",
   "metadata": {},
   "source": [
    "### The Dataframe Analysis Process"
   ]
  },
  {
   "cell_type": "markdown",
   "id": "003aa8c0-c6dc-4c89-b283-3bf1e1f4fc19",
   "metadata": {},
   "source": [
    "#### 1. Read\n",
    "\n",
    "`pd.DataFrame()`\n",
    "\n",
    "`pd.read_csv(\" \")`\n",
    "\n",
    "`pd.read_excel(\" \")`\n",
    "\n",
    "`pd.read_json(\" \")`"
   ]
  },
  {
   "cell_type": "markdown",
   "id": "b4127295-1a80-49e4-bd1b-10b571634f5d",
   "metadata": {},
   "source": [
    "#### 2. Explore\n",
    "\n",
    "`df.head()`\n",
    "\n",
    "`df.tail()`\n",
    "\n",
    "`df.info()`\n",
    "\n",
    "`df.describe()`\n",
    "\n",
    "`df.dtypes()`\n",
    "\n",
    "`df.size()`\n",
    "\n",
    "`df.shape()`\n",
    "\n",
    "`df.iloc()`"
   ]
  },
  {
   "cell_type": "markdown",
   "id": "09de276a-9fea-4d35-b3c8-36dffe1acc5f",
   "metadata": {},
   "source": [
    "#### 3. Clean\n",
    "\n",
    "`df.isna()`\n",
    "\n",
    "`df.drop()`\n",
    "\n",
    "`df.dropna()`\n",
    "\n",
    "`df.fillna()`\n",
    "\n",
    "`df.replace()`\n",
    "\n",
    "`df.drop_duplicates()`\n",
    "\n",
    "`df.upper()`\n",
    "\n",
    "`df.lower()`"
   ]
  },
  {
   "cell_type": "markdown",
   "id": "a10cbccb-8105-47b1-a8bd-42d8bceb74ae",
   "metadata": {},
   "source": [
    "#### 4. Analyze\n",
    "\n",
    "`df.column.sum()`\n",
    "\n",
    "`df.column.avg()`\n",
    "\n",
    "`df.column.min()`\n",
    "\n",
    "`df.column.max()`\n",
    "\n",
    "`df.pivot_table()`\n",
    "\n",
    "`df.groupby()`\n",
    "\n",
    "`df.join()`\n",
    "\n",
    "`df.merge()`"
   ]
  },
  {
   "cell_type": "markdown",
   "id": "6c62c885-ea60-47e7-b5f7-f841cc7e9b64",
   "metadata": {},
   "source": [
    "#### 5. Visualize\n",
    "\n",
    "`plot(x,y)`"
   ]
  },
  {
   "cell_type": "markdown",
   "id": "4cf100ad-4efb-4d15-b26e-e95959040858",
   "metadata": {},
   "source": [
    "***"
   ]
  },
  {
   "cell_type": "markdown",
   "id": "50aea8de-ba12-4664-b491-c1b1f062960d",
   "metadata": {},
   "source": [
    "`.size()`\n",
    "`.shape()`\n",
    "`.info()`\n",
    "`.head()`\n",
    "`.tail()`\n",
    "`.iloc[]`"
   ]
  },
  {
   "cell_type": "markdown",
   "id": "45ca1540-e601-4d20-8786-61a25cdae279",
   "metadata": {},
   "source": [
    "read add write .xlsc files w/ Pandas:\n",
    "\n",
    "`import pandas as pd`\n",
    "\n",
    "`df = pd.read_excel(\"<path>/<file>.xlsx\")`\n",
    "\n",
    "`excel_data_df = pandas.read_excel(\"records.xlsx\", sheet_name = \"Employees\")`\n",
    "\n",
    "write to excel:\n",
    "\n",
    "`df.to_excel(\"<path>/<file>.xlsx\")`"
   ]
  },
  {
   "cell_type": "markdown",
   "id": "b9e571a7-5d8b-4d47-ab3f-c919c4ab77ab",
   "metadata": {},
   "source": [
    "locating specific row\n",
    "\n",
    "`df.loc[(df[\"product_name\"] == \"Gustaf's Knäckebröd\")]`"
   ]
  }
 ],
 "metadata": {
  "kernelspec": {
   "display_name": "Python 3 (ipykernel)",
   "language": "python",
   "name": "python3"
  },
  "language_info": {
   "codemirror_mode": {
    "name": "ipython",
    "version": 3
   },
   "file_extension": ".py",
   "mimetype": "text/x-python",
   "name": "python",
   "nbconvert_exporter": "python",
   "pygments_lexer": "ipython3",
   "version": "3.10.9"
  }
 },
 "nbformat": 4,
 "nbformat_minor": 5
}
