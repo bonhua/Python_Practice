{
 "cells": [
  {
   "cell_type": "markdown",
   "id": "e06d55a3-1304-47b1-af01-a55c12a48711",
   "metadata": {},
   "source": [
    "# 03 Functions, Classes, & Objects"
   ]
  },
  {
   "cell_type": "markdown",
   "id": "45327e62-8bef-4489-8422-5ac2f59123fb",
   "metadata": {},
   "source": [
    "### Named Function Syntax"
   ]
  },
  {
   "cell_type": "markdown",
   "id": "62227f38-be51-4128-8da6-26031b712c9e",
   "metadata": {},
   "source": [
    "1. declared with `def`\n",
    "2. assign `function name`\n",
    "3. determine how many `arguments (inputs)` for the function\n",
    "4. indent your `code`\n",
    "5. `return value` if you want the function to have output"
   ]
  },
  {
   "cell_type": "code",
   "execution_count": 1,
   "id": "d4618c28-f30a-4291-954d-02fbac0d954d",
   "metadata": {},
   "outputs": [],
   "source": [
    "def functionname(parameters):\n",
    "    \"function_docstring\"\n",
    "    function_suite\n",
    "    return [expression]"
   ]
  },
  {
   "cell_type": "code",
   "execution_count": 2,
   "id": "c4fc5faa-35ed-4558-8f8e-735e93922f77",
   "metadata": {},
   "outputs": [
    {
     "ename": "SyntaxError",
     "evalue": "invalid syntax (3132331211.py, line 1)",
     "output_type": "error",
     "traceback": [
      "\u001b[1;36m  Cell \u001b[1;32mIn[2], line 1\u001b[1;36m\u001b[0m\n\u001b[1;33m    def function_name(argument1, argument2,...):\u001b[0m\n\u001b[1;37m                                           ^\u001b[0m\n\u001b[1;31mSyntaxError\u001b[0m\u001b[1;31m:\u001b[0m invalid syntax\n"
     ]
    }
   ],
   "source": [
    "def function_name(argument1, argument2,...):\n",
    "    transformations! math! magic!\n",
    "    return outcome"
   ]
  },
  {
   "cell_type": "markdown",
   "id": "1c9eeb0c-8240-42d3-85ef-a03d5f57bd5f",
   "metadata": {},
   "source": [
    "### Named Functions"
   ]
  },
  {
   "cell_type": "code",
   "execution_count": 3,
   "id": "59774ccf-97c6-405e-a708-cba5fa5fdae0",
   "metadata": {},
   "outputs": [
    {
     "name": "stdout",
     "output_type": "stream",
     "text": [
      "allons-y! onwards, shall we?\n"
     ]
    }
   ],
   "source": [
    "def bon_function():\n",
    "    print('allons-y! onwards, shall we?')\n",
    "\n",
    "bon_function()"
   ]
  },
  {
   "cell_type": "code",
   "execution_count": 4,
   "id": "8bae55ab-cbdd-4974-a914-e6f93333bb34",
   "metadata": {},
   "outputs": [
    {
     "name": "stdout",
     "output_type": "stream",
     "text": [
      "Caesar Zeppeli\n"
     ]
    }
   ],
   "source": [
    "def concat_name(fname, mname, lname):\n",
    "    print(fname + \" \" + lname)\n",
    "    \n",
    "concat_name(\"Caesar\", \"Anthonio\", \"Zeppeli\")"
   ]
  },
  {
   "cell_type": "code",
   "execution_count": null,
   "id": "97fe77f9-1843-4b6a-ae82-882ea0d9d30f",
   "metadata": {},
   "outputs": [],
   "source": [
    "# define the function\n",
    "def c_to_f(c):\n",
    "    fahrenheit = (c * 1.8) + 32\n",
    "    return fahrenheit\n",
    "\n",
    "# use the function\n",
    "Ctemp = 36\n",
    "Ftemp = c_to_f(Ctemp)\n",
    "print(Ftemp)"
   ]
  },
  {
   "cell_type": "markdown",
   "id": "e96262f2-0888-4ba4-92d6-239ae5d59f13",
   "metadata": {},
   "source": [
    "### Classes and Objects"
   ]
  },
  {
   "cell_type": "code",
   "execution_count": null,
   "id": "28113fbe-3e35-4448-adae-9d3bc5165737",
   "metadata": {},
   "outputs": [],
   "source": [
    "# this is a class\n",
    "class JoJo:\n",
    "    def __init__(jojo, name, part, arc):\n",
    "        jojo.name = name\n",
    "        jojo.part = part\n",
    "        jojo.arc = arc\n",
    "\n",
    "# these are objects assigned with class attributes\n",
    "a1 = JoJo(\"Giorno Giovanna\", 5, \"Golden Wind\")\n",
    "a2 = JoJo(\"Bruno Bucciarati\", 5, \"Golden Wind\")\n",
    "a3 = JoJo(\"Guido Mista\", 5, \"Golden Wind\")\n",
    "\n",
    "# (object.sampleclassattribute)\n",
    "print(a1.name)\n",
    "print(a2.name)\n",
    "print(a3.name)"
   ]
  },
  {
   "cell_type": "markdown",
   "id": "c9e509e5-35d0-41c0-88f0-be6513d10eb9",
   "metadata": {},
   "source": [
    "### Lambda Functions (Anonymous Functions)"
   ]
  },
  {
   "cell_type": "markdown",
   "id": "0abf86c4-2552-4d1d-8729-40f8a8d726cf",
   "metadata": {},
   "source": [
    "Normal functions are defined using the `def keyword` while annonymous functions are defined using the `lambda keyword`. Anonymous functions are declared without an identifier and are usually not accessible after being declared; these are temporary functions."
   ]
  },
  {
   "cell_type": "code",
   "execution_count": 1,
   "id": "64186bc3-fd46-45b2-ba64-536980ecc2a1",
   "metadata": {},
   "outputs": [
    {
     "name": "stdout",
     "output_type": "stream",
     "text": [
      "30\n"
     ]
    }
   ],
   "source": [
    "def example_function(x):\n",
    "    return lambda b: b * a\n",
    "\n",
    "x = lambda b, c: c * b\n",
    "print(x(5,6))"
   ]
  },
  {
   "cell_type": "code",
   "execution_count": 1,
   "id": "12b80b48-3387-4ab6-ac6a-bcc7d52e0f7d",
   "metadata": {},
   "outputs": [
    {
     "name": "stdout",
     "output_type": "stream",
     "text": [
      "[41.0, 50.0, 39.2, 53.6, 68.0, 75.2]\n"
     ]
    }
   ],
   "source": [
    "centrigrade_list = [5, 10, 4, 12, 20, 24]\n",
    "fahrenheit_list = list(map(lambda c: (c*1.8)+32, centrigrade_list))\n",
    "print(fahrenheit_list)"
   ]
  },
  {
   "cell_type": "markdown",
   "id": "256603c0-03df-4abf-b969-690a4a4c3798",
   "metadata": {},
   "source": [
    "### Packages (Modules)"
   ]
  },
  {
   "cell_type": "markdown",
   "id": "abe9d97f-d275-439e-87ad-25cf710d4618",
   "metadata": {},
   "source": [
    "In order to work with modules, PIP is required. PIP refers to `preferred installer program`.\n",
    "\n",
    "Modules refer to files containing Python statements and definitions; it is a code library."
   ]
  },
  {
   "cell_type": "markdown",
   "id": "2d1760a6-f51f-4ea7-8d57-53ecbe59d4bc",
   "metadata": {},
   "source": [
    "## Class Notes"
   ]
  },
  {
   "cell_type": "markdown",
   "id": "0eee1194-a9de-4593-81a2-28ffc9c45b1a",
   "metadata": {},
   "source": [
    "### Lists []"
   ]
  },
  {
   "cell_type": "code",
   "execution_count": null,
   "id": "ccf18743-7d9c-4797-8462-3d249149ed82",
   "metadata": {},
   "outputs": [],
   "source": [
    "red_colors = [\"crimson\", \"brick\", \"ruby\", \"scarlet\", \"maroon\"]\n",
    "print(red_colors)"
   ]
  },
  {
   "cell_type": "code",
   "execution_count": null,
   "id": "8d208aa3-b0d2-4db8-a3eb-26850cf98c07",
   "metadata": {},
   "outputs": [],
   "source": [
    "red_colors.pop() # removes last item from list\n",
    "print(red_colors)"
   ]
  },
  {
   "cell_type": "code",
   "execution_count": null,
   "id": "ba6668db-cc37-42ff-98bd-8e3217eec731",
   "metadata": {},
   "outputs": [],
   "source": [
    "red_colors.pop(0) # removes item at index 0 from list\n",
    "print(red_colors)"
   ]
  },
  {
   "cell_type": "code",
   "execution_count": null,
   "id": "0c121bb5-6cc5-4faf-916c-a127cfac25de",
   "metadata": {},
   "outputs": [],
   "source": [
    "red_colors.pop(-2) # removes second to last item from list\n",
    "print(red_colors)"
   ]
  },
  {
   "cell_type": "code",
   "execution_count": null,
   "id": "6297c4ff-cbfa-40e9-94b0-e3f8ecac78e1",
   "metadata": {},
   "outputs": [],
   "source": [
    "red_colors.append(\"wine\") # add item to end of list\n",
    "print(red_colors)\n",
    "\n",
    "# items are added one at a time; no multiple append arguments\n",
    "# run this three times to add wine three times"
   ]
  },
  {
   "cell_type": "code",
   "execution_count": null,
   "id": "941f8b54-c21f-4f42-b1fd-1ddb40bf15ee",
   "metadata": {},
   "outputs": [],
   "source": [
    "red_colors.remove(\"wine\") # if duplicates are present, removes the first one it encounters\n",
    "print(red_colors)"
   ]
  },
  {
   "cell_type": "markdown",
   "id": "5f992103-c2ad-4f9c-866d-32ad9e508dda",
   "metadata": {},
   "source": [
    "### Classes & Objects"
   ]
  },
  {
   "cell_type": "markdown",
   "id": "da2e736a-94c1-41b5-a4cd-3674330789c2",
   "metadata": {},
   "source": [
    "Creating a class:\n",
    "1. Declare **class** name\n",
    "2. Create a **constructor** (`__init__`)\n",
    "3. Define class **methods**\n",
    "    - Each method is dictated by an indented block\n",
    "\n",
    "Main program:\n",
    "1. Instantiate the class as an boject\n",
    "2. Invoke a class method\n",
    "\n",
    "Overview of classes:\n",
    "1. Declaration of class\n",
    "2. Instantiation of class\n",
    "3. Inoke a class method"
   ]
  },
  {
   "cell_type": "markdown",
   "id": "e85a6756-8cae-4824-9db7-1ef2174d6746",
   "metadata": {},
   "source": [
    "### Syntax\n",
    "Every class has a function called `__init__(self, [arguments])`. *Self* is the industry standard."
   ]
  },
  {
   "cell_type": "code",
   "execution_count": 29,
   "id": "1ff292b4-4854-48a4-b961-06aec976bc2d",
   "metadata": {},
   "outputs": [],
   "source": [
    "class class_name:\n",
    "    def __init__(self, attribute1, attribute2):\n",
    "        self.attribute1 = attribute1\n",
    "        self.attribute2 = attribute2"
   ]
  },
  {
   "cell_type": "markdown",
   "id": "404b6457-dacf-439c-a837-d1c814787d39",
   "metadata": {},
   "source": [
    "## Challenges"
   ]
  },
  {
   "cell_type": "markdown",
   "id": "ccc43939-2aed-4c2e-bdbf-abc449c5a572",
   "metadata": {},
   "source": [
    "### Mini Challenge 1"
   ]
  },
  {
   "cell_type": "markdown",
   "id": "a3c01c57-4291-4418-a497-8de925327db2",
   "metadata": {},
   "source": [
    "Create a function that calculates the energy in an object given a mass in kg:\n",
    "* use mass (in kg) as the input parameter\n",
    "* declare a variable for the speed of light c which is 3x10^8 m/s (c = 3e8)\n",
    "* multiply by the speed of light c squared\n",
    "* return the result of e = mc^2\n",
    "\n",
    "In a main program, send in the weight of a soccer ball (1.4 kilograms).\n",
    "Use the function to find the amount of energy (Joules) in a soccer ball."
   ]
  },
  {
   "cell_type": "code",
   "execution_count": 4,
   "id": "61de5ca3-1e6b-4864-80a1-7696fd987c3b",
   "metadata": {},
   "outputs": [],
   "source": [
    "# create function calculating energy of object (e = mc^2)\n",
    "def energy_equation(m):\n",
    "    c = 3e8\n",
    "    return m*(c**2)"
   ]
  },
  {
   "cell_type": "code",
   "execution_count": 5,
   "id": "58f7ec53-8701-4b7a-a7a2-5b548949659a",
   "metadata": {},
   "outputs": [
    {
     "name": "stdout",
     "output_type": "stream",
     "text": [
      "The energy for a soccer ball with a weight of 1.4 kg is 1.26e+17 Joules.\n"
     ]
    }
   ],
   "source": [
    "# calculate energy for soccer ball (1.4 kg)\n",
    "s = 1.4\n",
    "print(\"The energy for a soccer ball with a weight of\", s, \"kg\", \"is\", energy_equation(s), \"Joules.\")"
   ]
  },
  {
   "cell_type": "markdown",
   "id": "e0a18ab1-8779-4ec4-8524-bdf2a53693c4",
   "metadata": {},
   "source": [
    "### Mini Challenge 2"
   ]
  },
  {
   "cell_type": "markdown",
   "id": "dcff95f1-530f-4a71-aa7c-0f456a257b51",
   "metadata": {},
   "source": [
    "Create a list of measurements in millimeters [32, 62, 21, 60, 55].\n",
    "\n",
    "Create a lambda function that converts measurements in mm to inches (1mm = 0.039 inches).\n",
    "\n",
    "Use the map function and your lambda function to create a list of measurements in inches."
   ]
  },
  {
   "cell_type": "code",
   "execution_count": 6,
   "id": "a5b49f4a-dd1d-44f2-91bd-771da538cbaf",
   "metadata": {},
   "outputs": [],
   "source": [
    "# create a list of measurements in mm\n",
    "measurements_in_mm = [32, 62, 21, 60, 55]"
   ]
  },
  {
   "cell_type": "code",
   "execution_count": 7,
   "id": "cecf794f-769a-43dc-9f35-d5a3bc1b5886",
   "metadata": {},
   "outputs": [
    {
     "data": {
      "text/plain": [
       "<function __main__.<lambda>(m)>"
      ]
     },
     "execution_count": 7,
     "metadata": {},
     "output_type": "execute_result"
    }
   ],
   "source": [
    "# create lambda function to convert mm to in (1 mm = 0.039 in)\n",
    "lambda m: m*0.039"
   ]
  },
  {
   "cell_type": "code",
   "execution_count": 8,
   "id": "03771757-eb18-41fb-b11d-73f4021cdac7",
   "metadata": {},
   "outputs": [
    {
     "name": "stdout",
     "output_type": "stream",
     "text": [
      "[1.248, 2.418, 0.819, 2.34, 2.145]\n"
     ]
    }
   ],
   "source": [
    "# use map function & lambda function to create list of measurements in inches\n",
    "measurements_in_inches = list(map(lambda m: m*0.039, measurements_in_mm))\n",
    "print(measurements_in_inches)"
   ]
  },
  {
   "cell_type": "markdown",
   "id": "a59bf351-2764-4262-b422-2c45201b00b3",
   "metadata": {},
   "source": [
    "### Mini Challenge 3"
   ]
  },
  {
   "cell_type": "markdown",
   "id": "ff75be8a-dfbf-47fa-abcb-2d62ef5bdf1a",
   "metadata": {},
   "source": [
    "1. Create a class called \"product\".\n",
    "2. Give the class a constructor that takes 3 arguments and stores them as class attributes:\n",
    "    - string called product_name\n",
    "    - string called product_category\n",
    "    - float called price\n",
    "3. Add a class method called get_price that returns the price when you call (invoke) the method.\n",
    "4. In your main program, instantiate a product with name \"tea\" and category \"beverage\" and price 6.99.\n",
    "5. Call the method get_price for your new object and print the price."
   ]
  },
  {
   "cell_type": "code",
   "execution_count": 28,
   "id": "99fb29c5-b2de-4eab-a75a-a85fa0b7ea3c",
   "metadata": {},
   "outputs": [],
   "source": [
    "class product:\n",
    "    def __init__(product, name, category, price):\n",
    "        product.name = name\n",
    "        product.category = category\n",
    "        product.price = price\n",
    "    \n",
    "    def get_price(product):\n",
    "        return product.price"
   ]
  },
  {
   "cell_type": "code",
   "execution_count": 26,
   "id": "dc00402e-5fc8-4f79-a0e3-628034f96cf6",
   "metadata": {},
   "outputs": [],
   "source": [
    "m = product(\"tea\",\"beverage\", 6.99)"
   ]
  },
  {
   "cell_type": "code",
   "execution_count": 27,
   "id": "8997d7eb-7e2c-4231-85a8-0f4a49a804ea",
   "metadata": {},
   "outputs": [
    {
     "name": "stdout",
     "output_type": "stream",
     "text": [
      "The price for tea is 6.99\n"
     ]
    }
   ],
   "source": [
    "print(\"The price for tea is\", m.get_price())"
   ]
  }
 ],
 "metadata": {
  "kernelspec": {
   "display_name": "Python 3 (ipykernel)",
   "language": "python",
   "name": "python3"
  },
  "language_info": {
   "codemirror_mode": {
    "name": "ipython",
    "version": 3
   },
   "file_extension": ".py",
   "mimetype": "text/x-python",
   "name": "python",
   "nbconvert_exporter": "python",
   "pygments_lexer": "ipython3",
   "version": "3.10.9"
  }
 },
 "nbformat": 4,
 "nbformat_minor": 5
}
