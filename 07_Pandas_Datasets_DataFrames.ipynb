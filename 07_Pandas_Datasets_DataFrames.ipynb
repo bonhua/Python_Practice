{
 "cells": [
  {
   "cell_type": "markdown",
   "id": "d5e07ee1-506f-41da-8748-0dda3e65072e",
   "metadata": {},
   "source": [
    "# <center> 07 Pandas, Datasets, & DataFrames"
   ]
  },
  {
   "cell_type": "markdown",
   "id": "32973bf3-9e00-4ca9-87cc-61eb6b63ffbe",
   "metadata": {},
   "source": [
    "## **PART 1**"
   ]
  },
  {
   "cell_type": "markdown",
   "id": "3e236cef-29df-4e58-a3b2-21de82b66124",
   "metadata": {},
   "source": [
    "### 1. Import pandas as “pd”."
   ]
  },
  {
   "cell_type": "code",
   "execution_count": null,
   "id": "feb38af9-a909-44a6-b53f-ea2c4f13bd40",
   "metadata": {},
   "outputs": [],
   "source": [
    "import pandas as pd"
   ]
  },
  {
   "cell_type": "markdown",
   "id": "10a155cf-c121-45b2-81c4-54c0fe6901f5",
   "metadata": {},
   "source": [
    "### 2. Create three lists with five elements each. The first list should contain employees' first names, the second their last names, and the third should list their ages. You can make up this data."
   ]
  },
  {
   "cell_type": "code",
   "execution_count": null,
   "id": "2eb958bc-a2ac-4f77-9c30-4e3f5ed26047",
   "metadata": {},
   "outputs": [],
   "source": [
    "fn = [\"Mia\", \"Julius\", \"Ezra\", \"Amy\", \"Harry\"]\n",
    "ln = [\"Thermopolis\", \"Caesar\", \"Koenig\", \"Pond\", \"Styles\"]\n",
    "a = [22, 55, 33, 44, 29]\n",
    "\n",
    "print(\"Employee first names:\", fn)\n",
    "print(\"Employee last names:\", ln)\n",
    "print(\"Employee ages:\", a)"
   ]
  },
  {
   "cell_type": "markdown",
   "id": "fa4b1bc7-c52b-478e-b26e-7d9fdd7a54e2",
   "metadata": {},
   "source": [
    "### 3. Create a data dictionary from the three lists. "
   ]
  },
  {
   "cell_type": "code",
   "execution_count": null,
   "id": "57a1da3b-e6ba-43b9-bc56-3b4360a2be15",
   "metadata": {},
   "outputs": [],
   "source": [
    "employee_dictionary = {\n",
    "    \"firstname\": fn,\n",
    "    \"lastname\": ln,\n",
    "    \"age\": a}\n",
    "\n",
    "print(employee_dictionary)"
   ]
  },
  {
   "cell_type": "markdown",
   "id": "7e0ac045-f585-4580-982f-24956241a698",
   "metadata": {},
   "source": [
    "### 4. Create a pandas Series from the employee age list. "
   ]
  },
  {
   "cell_type": "code",
   "execution_count": null,
   "id": "f51b0b85-34fc-41e5-99f7-aa988507ae2e",
   "metadata": {},
   "outputs": [],
   "source": [
    "#employee_firstnames = pd.Series(fn)\n",
    "#employee_lastnames = pd.Series(ln)\n",
    "employee_ages = pd.Series(a)\n",
    "\n",
    "#print(employee_firstnames)\n",
    "#print(employee_lastnames)\n",
    "print(employee_ages)"
   ]
  },
  {
   "cell_type": "markdown",
   "id": "c528a8f7-cc58-42a4-8358-c00f0eae5b98",
   "metadata": {},
   "source": [
    "### 5. Determine the average employee age."
   ]
  },
  {
   "cell_type": "code",
   "execution_count": null,
   "id": "b03fcb36-12da-402a-950d-b75af865098c",
   "metadata": {},
   "outputs": [],
   "source": [
    "avg_employee_age = employee_ages.mean()\n",
    "print(\"The average employee age is\", avg_employee_age, \"years.\")"
   ]
  },
  {
   "cell_type": "markdown",
   "id": "ee4aa976-e005-43a9-8bcf-f93803e22484",
   "metadata": {},
   "source": [
    "### 6. Write the Series to a CSV file. "
   ]
  },
  {
   "cell_type": "code",
   "execution_count": null,
   "id": "d564e500-26b2-496c-a438-e6f077350f45",
   "metadata": {},
   "outputs": [],
   "source": [
    "employee_ages.to_csv(\"employee_ages.csv\")"
   ]
  },
  {
   "cell_type": "markdown",
   "id": "e2409edf-8a4c-48ba-97ad-9d53269e848c",
   "metadata": {},
   "source": [
    "## **PART 2**"
   ]
  },
  {
   "cell_type": "markdown",
   "id": "1b112845-740a-4744-a370-318cad909070",
   "metadata": {},
   "source": [
    "### 1. Import 21st century MLB Batting.csv into Python as a data frame."
   ]
  },
  {
   "cell_type": "code",
   "execution_count": null,
   "id": "2df78cbe-4b87-4d9b-8690-058020c8104c",
   "metadata": {},
   "outputs": [],
   "source": [
    "df = pd.read_csv(\"21st_century_MLB_Batting.csv\")\n",
    "print(df)"
   ]
  },
  {
   "cell_type": "markdown",
   "id": "c4363cfe-fa9d-4110-94ed-694e557b5cc9",
   "metadata": {},
   "source": [
    "### 2. Print the first five items in the data frame."
   ]
  },
  {
   "cell_type": "code",
   "execution_count": null,
   "id": "1a9abc97-f2bc-461b-8fbc-7ac33821b607",
   "metadata": {},
   "outputs": [],
   "source": [
    "first_five = df.head(5)\n",
    "print(first_five)"
   ]
  },
  {
   "cell_type": "markdown",
   "id": "495f3cd3-8351-40ed-bfdc-b65cf14733ec",
   "metadata": {},
   "source": [
    "### 3. Print the last six items in the data frame."
   ]
  },
  {
   "cell_type": "code",
   "execution_count": null,
   "id": "19f91054-3045-4e81-8419-285e85587340",
   "metadata": {},
   "outputs": [],
   "source": [
    "last_six = df.tail(6)\n",
    "print(last_six)"
   ]
  },
  {
   "cell_type": "markdown",
   "id": "fedd2a86-db47-4aa0-9f07-bbd24fc8f8e3",
   "metadata": {},
   "source": [
    "### 4. Determine the average of the HR column."
   ]
  },
  {
   "cell_type": "code",
   "execution_count": null,
   "id": "8faa5917-0abf-417c-bcd0-1d876fe8dc8a",
   "metadata": {},
   "outputs": [],
   "source": [
    "#df_columns = df.head(0)\n",
    "#print(df_columns)"
   ]
  },
  {
   "cell_type": "code",
   "execution_count": null,
   "id": "40156e52-73a9-469f-9a90-be68530f71d5",
   "metadata": {},
   "outputs": [],
   "source": [
    "#df_info = df.info()\n",
    "#print(df_info)"
   ]
  },
  {
   "cell_type": "code",
   "execution_count": null,
   "id": "d9f858ad-2d27-4edd-9052-c07ac592609a",
   "metadata": {},
   "outputs": [],
   "source": [
    "hr_avg = df[\"HR\"].mean()\n",
    "print(hr_avg)"
   ]
  },
  {
   "cell_type": "markdown",
   "id": "d8966743-efc7-4f41-ae01-e029fad08280",
   "metadata": {},
   "source": [
    "### 5. Calculate the max of the SO column."
   ]
  },
  {
   "cell_type": "code",
   "execution_count": null,
   "id": "8afe7e43-d03a-4e5d-a749-1da14c6d15ab",
   "metadata": {},
   "outputs": [],
   "source": [
    "so_max = df[\"SO\"].max()\n",
    "print(so_max)"
   ]
  },
  {
   "cell_type": "markdown",
   "id": "c492ebdf-7431-484e-9f69-85f944fdfb0d",
   "metadata": {},
   "source": [
    "### 6. Save the data frame as an Excel file."
   ]
  },
  {
   "cell_type": "code",
   "execution_count": null,
   "id": "7bdc5a86-69cc-4fdb-ba23-b4928078b8e2",
   "metadata": {},
   "outputs": [],
   "source": [
    "df.to_csv(\"df.csv\")"
   ]
  },
  {
   "cell_type": "markdown",
   "id": "677f8c42-489c-4d8b-8aaf-bdb070735177",
   "metadata": {},
   "source": [
    "### 7. Create a subset of the data frame for players with more than 40 HR."
   ]
  },
  {
   "cell_type": "code",
   "execution_count": null,
   "id": "f6e9a0a6-772f-4ee4-9d44-e79bb6b39a83",
   "metadata": {},
   "outputs": [],
   "source": [
    "#hr_max = df[\"HR\"].max()\n",
    "#print(hr_max)"
   ]
  },
  {
   "cell_type": "code",
   "execution_count": null,
   "id": "017e0b22-eb5d-4175-9cea-211337ffe78d",
   "metadata": {},
   "outputs": [],
   "source": [
    "over_40_hr = df.loc[df[\"HR\"]>40]\n",
    "print(over_40_hr)"
   ]
  },
  {
   "cell_type": "markdown",
   "id": "86887cde-a3be-45cc-be04-2d5e1e9f42db",
   "metadata": {},
   "source": [
    "### 8. Save this new subset as a json file."
   ]
  },
  {
   "cell_type": "code",
   "execution_count": null,
   "id": "56c766f9-8aa4-4c72-b7be-232d5befb512",
   "metadata": {},
   "outputs": [],
   "source": [
    "over_40_hr.to_json(\"over_40_hr.json\")"
   ]
  }
 ],
 "metadata": {
  "kernelspec": {
   "display_name": "Python 3 (ipykernel)",
   "language": "python",
   "name": "python3"
  },
  "language_info": {
   "codemirror_mode": {
    "name": "ipython",
    "version": 3
   },
   "file_extension": ".py",
   "mimetype": "text/x-python",
   "name": "python",
   "nbconvert_exporter": "python",
   "pygments_lexer": "ipython3",
   "version": "3.10.9"
  }
 },
 "nbformat": 4,
 "nbformat_minor": 5
}
