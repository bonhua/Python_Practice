{
 "cells": [
  {
   "cell_type": "markdown",
   "id": "5bb9c47e-c594-4917-80aa-85ca64345d2c",
   "metadata": {},
   "source": [
    "### Print Function"
   ]
  },
  {
   "cell_type": "code",
   "execution_count": 1,
   "id": "ddc1b4f6-11b0-4e71-b85e-f74f8e787569",
   "metadata": {},
   "outputs": [
    {
     "name": "stdout",
     "output_type": "stream",
     "text": [
      "Bonjour WORLD!\n"
     ]
    }
   ],
   "source": [
    "# print: displays specified in paren\n",
    "print (\"Bonjour WORLD!\")"
   ]
  },
  {
   "cell_type": "markdown",
   "id": "b4734636-89c6-4295-aa51-952087c7a3bc",
   "metadata": {},
   "source": [
    "### Variables: Declaration & Assignment"
   ]
  },
  {
   "cell_type": "code",
   "execution_count": 2,
   "id": "683512ab-c951-44b9-a8c6-75e5b2655dc8",
   "metadata": {},
   "outputs": [
    {
     "name": "stdout",
     "output_type": "stream",
     "text": [
      "star\n"
     ]
    }
   ],
   "source": [
    "# declare variable & assign value\n",
    "q = 'star'\n",
    "print (q)"
   ]
  },
  {
   "cell_type": "code",
   "execution_count": 3,
   "id": "292d68cc-35eb-4e4c-92cc-3c8d67f0848c",
   "metadata": {},
   "outputs": [
    {
     "name": "stdout",
     "output_type": "stream",
     "text": [
      "bonnie & clyde\n",
      "bonnie & clyde\n"
     ]
    }
   ],
   "source": [
    "# other value assignments\n",
    "x = \"bonnie\"\n",
    "y = \"&\"\n",
    "z = \"clyde\"\n",
    "print (x, y, z)\n",
    "\n",
    "m = \"bonnie \"\n",
    "n = \"& clyde\"\n",
    "o = m + n\n",
    "print (o)"
   ]
  },
  {
   "cell_type": "markdown",
   "id": "4ef801d0-c45c-4cfa-93dc-fabc3c1a1bc2",
   "metadata": {},
   "source": [
    "### Data Types"
   ]
  },
  {
   "cell_type": "code",
   "execution_count": 4,
   "id": "d7c731b5-424b-4379-bd90-7645ff50fad6",
   "metadata": {},
   "outputs": [
    {
     "name": "stdout",
     "output_type": "stream",
     "text": [
      "Raw potatoes is an example of the <class 'str'> data type\n"
     ]
    }
   ],
   "source": [
    "# text type\n",
    "x = \"Raw potatoes\"\n",
    "x = str(\"Raw potatoes\")\n",
    "print (x, \"is an example of the\", type (x), \"data type\")"
   ]
  },
  {
   "cell_type": "code",
   "execution_count": 5,
   "id": "e0c5ec5b-ba73-4ab3-bfd4-06f2b407fadd",
   "metadata": {},
   "outputs": [
    {
     "name": "stdout",
     "output_type": "stream",
     "text": [
      "99.9 is a numeric float\n",
      "26 is a numeric integer\n",
      "5j is a complex number\n"
     ]
    }
   ],
   "source": [
    "# numeric type\n",
    "a = float(99.9)\n",
    "b = int(26)\n",
    "c = complex(5j)\n",
    "print (a, \"is a numeric float\")\n",
    "print (b, \"is a numeric integer\")\n",
    "print (c, \"is a complex number\")"
   ]
  }
 ],
 "metadata": {
  "kernelspec": {
   "display_name": "Python 3 (ipykernel)",
   "language": "python",
   "name": "python3"
  },
  "language_info": {
   "codemirror_mode": {
    "name": "ipython",
    "version": 3
   },
   "file_extension": ".py",
   "mimetype": "text/x-python",
   "name": "python",
   "nbconvert_exporter": "python",
   "pygments_lexer": "ipython3",
   "version": "3.10.9"
  }
 },
 "nbformat": 4,
 "nbformat_minor": 5
}
